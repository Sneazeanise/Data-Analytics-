{
  "nbformat": 4,
  "nbformat_minor": 0,
  "metadata": {
    "colab": {
      "name": "Unit2_L3_Classwork (Collab).ipynb",
      "provenance": [],
      "collapsed_sections": []
    },
    "kernelspec": {
      "name": "python3",
      "display_name": "Python 3"
    },
    "language_info": {
      "name": "python"
    }
  },
  "cells": [
    {
      "cell_type": "markdown",
      "source": [
        "Name: Aaron Rodriguez\n",
        "\n",
        "Lesson 3: Working with Lists\n"
      ],
      "metadata": {
        "id": "UhqvCi0ajlzJ"
      }
    },
    {
      "cell_type": "markdown",
      "source": [
        "1.\tCreate a list of 5 of your favorite tv shows."
      ],
      "metadata": {
        "id": "brmLXuRRjqRY"
      }
    },
    {
      "cell_type": "code",
      "source": [
        "movies = [\"star wars: the clone wars\", \"spongebob\", \"adventure time\", \"phineas & ferb\", \"regular show\"]\n",
        "print(movies)"
      ],
      "metadata": {
        "colab": {
          "base_uri": "https://localhost:8080/"
        },
        "id": "4U3WMg4XjuLC",
        "outputId": "8d661d1e-002a-46cc-c3ec-7bc167a326c8"
      },
      "execution_count": 1,
      "outputs": [
        {
          "output_type": "stream",
          "name": "stdout",
          "text": [
            "['star wars: the clone wars', 'spongebob', 'adventure time', 'phineas & ferb', 'regular show']\n"
          ]
        }
      ]
    },
    {
      "cell_type": "markdown",
      "source": [
        "2.\tPrint the list in its original order."
      ],
      "metadata": {
        "id": "LQUdGAn-juaL"
      }
    },
    {
      "cell_type": "code",
      "source": [
        "movies = [\"star wars: the clone wars\", \"spongebob\", \"adventure time\", \"phineas & ferb\", \"regular show\"]\n",
        "print(movies)"
      ],
      "metadata": {
        "colab": {
          "base_uri": "https://localhost:8080/"
        },
        "id": "aH-rrIC_jy6S",
        "outputId": "68c434e4-074b-46ee-a102-439b838c7c94"
      },
      "execution_count": 2,
      "outputs": [
        {
          "output_type": "stream",
          "name": "stdout",
          "text": [
            "['star wars: the clone wars', 'spongebob', 'adventure time', 'phineas & ferb', 'regular show']\n"
          ]
        }
      ]
    },
    {
      "cell_type": "markdown",
      "source": [
        "3.\tUse the sorted() function to print the list in alphabetical order.  How is sorted() different from sort()?"
      ],
      "metadata": {
        "id": "BzxsvbWvjzOT"
      }
    },
    {
      "cell_type": "code",
      "source": [
        "x = sorted(movies)\n",
        "print(x)"
      ],
      "metadata": {
        "colab": {
          "base_uri": "https://localhost:8080/"
        },
        "id": "vPZjRHkRj2Cr",
        "outputId": "2653488f-db5b-465c-abf2-37524e459ddf"
      },
      "execution_count": 3,
      "outputs": [
        {
          "output_type": "stream",
          "name": "stdout",
          "text": [
            "['adventure time', 'phineas & ferb', 'regular show', 'spongebob', 'star wars: the clone wars']\n"
          ]
        }
      ]
    },
    {
      "cell_type": "markdown",
      "source": [
        ""
      ],
      "metadata": {
        "id": "cj9Um-Axj43y"
      }
    },
    {
      "cell_type": "markdown",
      "source": [
        "4.\tPrint out your original list."
      ],
      "metadata": {
        "id": "iCzB0yxZj4UU"
      }
    },
    {
      "cell_type": "code",
      "source": [
        "movies = [\"star wars: the clone wars\", \"spongebob\", \"adventure time\", \"phineas & ferb\", \"regular show\"]\n",
        "print(movies)"
      ],
      "metadata": {
        "colab": {
          "base_uri": "https://localhost:8080/"
        },
        "id": "dFcXZdJHj-i_",
        "outputId": "513eabab-f36c-4d33-d4c1-5c8184e73a93"
      },
      "execution_count": 5,
      "outputs": [
        {
          "output_type": "stream",
          "name": "stdout",
          "text": [
            "['star wars: the clone wars', 'spongebob', 'adventure time', 'phineas & ferb', 'regular show']\n"
          ]
        }
      ]
    },
    {
      "cell_type": "markdown",
      "source": [
        "5.\tUsed sorted() to print your list in reverse alphabetical order."
      ],
      "metadata": {
        "id": "WuLA7t40j-zz"
      }
    },
    {
      "cell_type": "code",
      "source": [
        "y = sorted(movies, reverse=True)\n",
        "print(y)"
      ],
      "metadata": {
        "colab": {
          "base_uri": "https://localhost:8080/"
        },
        "id": "7_dJPUibkB8G",
        "outputId": "1dcc200a-10b8-4730-fbfd-806e5c58e92d"
      },
      "execution_count": 6,
      "outputs": [
        {
          "output_type": "stream",
          "name": "stdout",
          "text": [
            "['star wars: the clone wars', 'spongebob', 'regular show', 'phineas & ferb', 'adventure time']\n"
          ]
        }
      ]
    },
    {
      "cell_type": "markdown",
      "source": [
        "6.\tCreate a message indicating how many favorite TV shows you have – use the len() function."
      ],
      "metadata": {
        "id": "heaSy3e9kCQI"
      }
    },
    {
      "cell_type": "code",
      "source": [
        "len(movies)\n",
        "print(\"I have \" + str(len(movies)) + \" favorite movies\")"
      ],
      "metadata": {
        "colab": {
          "base_uri": "https://localhost:8080/"
        },
        "id": "gruQprKxkFeO",
        "outputId": "a2715019-a1c8-4227-8a5c-47c018a86b83"
      },
      "execution_count": 7,
      "outputs": [
        {
          "output_type": "stream",
          "name": "stdout",
          "text": [
            "I have 5 favorite movies\n"
          ]
        }
      ]
    },
    {
      "cell_type": "code",
      "source": [
        "#Full Command Line:\n",
        "movies = [\"star wars: the clone wars\", \"spongebob\", \"adventure time\", \"phineas & ferb\", \"regular show\"]\n",
        "print(movies)\n",
        "x = sorted(movies)\n",
        "print(x)\n",
        "movies.sort()\n",
        "print(movies)\n",
        "y = sorted(movies, reverse=True)\n",
        "print(y)\n",
        "len(movies)\n",
        "print(\"I have \" + str(len(movies)) + \" favorite movies\")\n",
        "['star wars: the clone wars', 'spongebob', 'adventure time', 'phineas & ferb', 'regular show']\n",
        "['adventure time', 'phineas & ferb', 'regular show', 'spongebob', 'star wars: the clone wars']\n",
        "['adventure time', 'phineas & ferb', 'regular show', 'spongebob', 'star wars: the clone wars']\n",
        "['star wars: the clone wars', 'spongebob', 'regular show', 'phineas & ferb', 'adventure time']"
      ],
      "metadata": {
        "colab": {
          "base_uri": "https://localhost:8080/"
        },
        "id": "b0Jv9NkGkISu",
        "outputId": "d319c380-0926-4a15-c6dc-41aa9955f5a6"
      },
      "execution_count": 10,
      "outputs": [
        {
          "output_type": "stream",
          "name": "stdout",
          "text": [
            "['star wars: the clone wars', 'spongebob', 'adventure time', 'phineas & ferb', 'regular show']\n",
            "['adventure time', 'phineas & ferb', 'regular show', 'spongebob', 'star wars: the clone wars']\n",
            "['adventure time', 'phineas & ferb', 'regular show', 'spongebob', 'star wars: the clone wars']\n",
            "['star wars: the clone wars', 'spongebob', 'regular show', 'phineas & ferb', 'adventure time']\n",
            "I have 5 favorite movies\n"
          ]
        },
        {
          "output_type": "execute_result",
          "data": {
            "text/plain": [
              "['star wars: the clone wars',\n",
              " 'spongebob',\n",
              " 'regular show',\n",
              " 'phineas & ferb',\n",
              " 'adventure time']"
            ]
          },
          "metadata": {},
          "execution_count": 10
        }
      ]
    }
  ]
}