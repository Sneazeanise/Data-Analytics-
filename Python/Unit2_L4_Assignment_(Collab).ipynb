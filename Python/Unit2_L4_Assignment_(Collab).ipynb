{
  "nbformat": 4,
  "nbformat_minor": 0,
  "metadata": {
    "colab": {
      "name": "Unit2_L4_Classwork (Collab).ipynb",
      "provenance": [],
      "collapsed_sections": []
    },
    "kernelspec": {
      "name": "python3",
      "display_name": "Python 3"
    },
    "language_info": {
      "name": "python"
    }
  },
  "cells": [
    {
      "cell_type": "markdown",
      "source": [
        "Name: Aaron Rodriguez\n",
        "\n",
        "Lesson 4 – Looping"
      ],
      "metadata": {
        "id": "Y215VSTMmQkd"
      }
    },
    {
      "cell_type": "markdown",
      "source": [
        "1.\tCreate a list that holds 5 data variables."
      ],
      "metadata": {
        "id": "n6AieOBUlnXu"
      }
    },
    {
      "cell_type": "code",
      "source": [
        "tvshows = ['stranger things', 'regular show', 'chowder', 'spongebob', 'game of thrones']\n",
        "print(tvshows)"
      ],
      "metadata": {
        "colab": {
          "base_uri": "https://localhost:8080/"
        },
        "id": "9mVHoG4qlotL",
        "outputId": "f392f989-b499-4e4e-fbd1-446925fb40f1"
      },
      "execution_count": 2,
      "outputs": [
        {
          "output_type": "stream",
          "name": "stdout",
          "text": [
            "['stranger things', 'regular show', 'chowder', 'spongebob', 'game of thrones']\n"
          ]
        }
      ]
    },
    {
      "cell_type": "markdown",
      "source": [
        "2.\tPrint out those variables by using a for loop."
      ],
      "metadata": {
        "id": "s8b0jjoLlo9E"
      }
    },
    {
      "cell_type": "code",
      "source": [
        "tvshows = ['stranger things', 'regular show', 'chowder', 'spongebob', 'game of thrones']\n",
        "for show in tvshows:\n",
        "    print(show)\n"
      ],
      "metadata": {
        "colab": {
          "base_uri": "https://localhost:8080/"
        },
        "id": "qjUW_lXhlugI",
        "outputId": "f83b6cf0-07e1-4281-a225-6939a4466488"
      },
      "execution_count": 11,
      "outputs": [
        {
          "output_type": "stream",
          "name": "stdout",
          "text": [
            "stranger things\n",
            "regular show\n",
            "chowder\n",
            "spongebob\n",
            "game of thrones\n"
          ]
        }
      ]
    },
    {
      "cell_type": "markdown",
      "source": [
        "3.\tModify your for loop to add a message to your for loop."
      ],
      "metadata": {
        "id": "LCoekBhblut7"
      }
    },
    {
      "cell_type": "code",
      "source": [
        "tvshows = ['stranger things', 'regular show', 'chowder', 'spongebob', 'game of thrones']\n",
        "for show in tvshows:\n",
        "    print(show.title() + \", is a great TV show.\")"
      ],
      "metadata": {
        "colab": {
          "base_uri": "https://localhost:8080/"
        },
        "id": "g3Vt6BjJlx2J",
        "outputId": "a196beaa-8b63-492e-84e4-ba1c9ca2866c"
      },
      "execution_count": 10,
      "outputs": [
        {
          "output_type": "stream",
          "name": "stdout",
          "text": [
            "Stranger Things, is a great TV show.\n",
            "Regular Show, is a great TV show.\n",
            "Chowder, is a great TV show.\n",
            "Spongebob, is a great TV show.\n",
            "Game Of Thrones, is a great TV show.\n"
          ]
        }
      ]
    },
    {
      "cell_type": "markdown",
      "source": [
        "4.\tUse a for loop to print even numbers from 1-20."
      ],
      "metadata": {
        "id": "D3DV57JllyHa"
      }
    },
    {
      "cell_type": "code",
      "source": [
        "even_number = list(range(0, 20, 2))\n",
        "print(even_number)"
      ],
      "metadata": {
        "colab": {
          "base_uri": "https://localhost:8080/"
        },
        "id": "B8irNoIvl02K",
        "outputId": "948cb477-a6ae-4bb9-b7a3-c62378662366"
      },
      "execution_count": 5,
      "outputs": [
        {
          "output_type": "stream",
          "name": "stdout",
          "text": [
            "[0, 2, 4, 6, 8, 10, 12, 14, 16, 18]\n"
          ]
        }
      ]
    },
    {
      "cell_type": "markdown",
      "source": [
        "5.\tSort your list in alphabetic order."
      ],
      "metadata": {
        "id": "OSRBglXbl1E6"
      }
    },
    {
      "cell_type": "code",
      "source": [
        "tvshows = ['stranger things', 'regular show', 'chowder', 'spongebob', 'game of thrones']\n",
        "tvshows.sort()\n",
        "print(tvshows)"
      ],
      "metadata": {
        "colab": {
          "base_uri": "https://localhost:8080/"
        },
        "id": "NxqGMfARl38H",
        "outputId": "62653b45-134f-4d7c-9f2b-7669a54e2a4d"
      },
      "execution_count": 12,
      "outputs": [
        {
          "output_type": "stream",
          "name": "stdout",
          "text": [
            "['chowder', 'game of thrones', 'regular show', 'spongebob', 'stranger things']\n"
          ]
        }
      ]
    },
    {
      "cell_type": "markdown",
      "source": [
        "6.\tPrint out the first three elements of your list."
      ],
      "metadata": {
        "id": "uXuz2R1zl8_v"
      }
    },
    {
      "cell_type": "code",
      "source": [
        "tvshows = ['stranger things', 'regular show', 'chowder', 'spongebob', 'game of thrones']\n",
        "for shows in tvshows [:3]:\n",
        "    print(shows.title())"
      ],
      "metadata": {
        "colab": {
          "base_uri": "https://localhost:8080/"
        },
        "id": "3p3NE1Hkl909",
        "outputId": "27204293-8111-4186-88d1-b43569173d70"
      },
      "execution_count": 13,
      "outputs": [
        {
          "output_type": "stream",
          "name": "stdout",
          "text": [
            "Stranger Things\n",
            "Regular Show\n",
            "Chowder\n"
          ]
        }
      ]
    },
    {
      "cell_type": "markdown",
      "source": [
        "7.\tCreate a loop to print the last 2 elements of your list."
      ],
      "metadata": {
        "id": "w21Jc-1dl-He"
      }
    },
    {
      "cell_type": "code",
      "source": [
        "tvshows = ['stranger things', 'regular show', 'chowder', 'spongebob', 'game of thrones']\n",
        "for shows in tvshows[3:5]:\n",
        "    print(shows.title())\n"
      ],
      "metadata": {
        "colab": {
          "base_uri": "https://localhost:8080/"
        },
        "id": "NjbHIkr_mA9Z",
        "outputId": "a4384c66-eaa8-4178-8678-924e31eea95a"
      },
      "execution_count": 14,
      "outputs": [
        {
          "output_type": "stream",
          "name": "stdout",
          "text": [
            "Spongebob\n",
            "Game Of Thrones\n"
          ]
        }
      ]
    }
  ]
}