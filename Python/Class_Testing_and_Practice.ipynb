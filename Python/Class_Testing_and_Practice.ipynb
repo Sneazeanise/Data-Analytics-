{
  "nbformat": 4,
  "nbformat_minor": 0,
  "metadata": {
    "colab": {
      "name": "Class Testing and Practice ",
      "provenance": [],
      "collapsed_sections": [],
      "authorship_tag": "ABX9TyMZHo4Z01+6aTMCjcMt80PL",
      "include_colab_link": true
    },
    "kernelspec": {
      "name": "python3",
      "display_name": "Python 3"
    },
    "language_info": {
      "name": "python"
    }
  },
  "cells": [
    {
      "cell_type": "markdown",
      "metadata": {
        "id": "view-in-github",
        "colab_type": "text"
      },
      "source": [
        "<a href=\"https://colab.research.google.com/github/Sneazeanise/Data_Analytics_micro_cred_winter_2022/blob/main/Python/Class_Testing_and_Practice.ipynb\" target=\"_parent\"><img src=\"https://colab.research.google.com/assets/colab-badge.svg\" alt=\"Open In Colab\"/></a>"
      ]
    },
    {
      "cell_type": "code",
      "execution_count": null,
      "metadata": {
        "colab": {
          "base_uri": "https://localhost:8080/"
        },
        "id": "nFMkxiPej9mk",
        "outputId": "54191fd7-652a-43db-ee15-38674feee46c"
      },
      "outputs": [
        {
          "output_type": "stream",
          "name": "stdout",
          "text": [
            "Hi Jim, how's your day today?\n"
          ]
        }
      ],
      "source": [
        "message = \"Hi Jim, how's your day today?\" \n",
        "print(message)"
      ]
    },
    {
      "cell_type": "code",
      "source": [
        "first_name = \"Jim\"\n",
        "last_name = \"Jones\"\n",
        "full_name = first_name + \" \" + last_name\n",
        "print(first_name)\n",
        "print(last_name)\n",
        "print(full_name)\n"
      ],
      "metadata": {
        "colab": {
          "base_uri": "https://localhost:8080/"
        },
        "id": "i13qI6hnBWjA",
        "outputId": "45305baf-ba56-45f5-fe25-d46a1642c004"
      },
      "execution_count": null,
      "outputs": [
        {
          "output_type": "stream",
          "name": "stdout",
          "text": [
            "Jim\n",
            "Jones\n",
            "Jim Jones\n"
          ]
        }
      ]
    },
    {
      "cell_type": "code",
      "source": [
        "game = \"fortnite battle royal\"\n",
        "print(game.lower())\n",
        "print(game.upper())"
      ],
      "metadata": {
        "colab": {
          "base_uri": "https://localhost:8080/"
        },
        "id": "jrEA4eLaDKgX",
        "outputId": "84c9c74e-d6fd-45b8-8aad-7768365bc0d7"
      },
      "execution_count": null,
      "outputs": [
        {
          "output_type": "stream",
          "name": "stdout",
          "text": [
            "fortnite battle royal\n",
            "FORTNITE BATTLE ROYAL\n"
          ]
        }
      ]
    },
    {
      "cell_type": "code",
      "source": [
        "x = 5\n",
        "y = 12\n",
        "z = 15\n",
        "g = 2\n",
        "x * y / x * (z + y) * x**g"
      ],
      "metadata": {
        "colab": {
          "base_uri": "https://localhost:8080/"
        },
        "id": "FIpSq31_DwuE",
        "outputId": "c7e7fc97-2ae4-4fc5-cbfc-ef0ace7f43cc"
      },
      "execution_count": null,
      "outputs": [
        {
          "output_type": "execute_result",
          "data": {
            "text/plain": [
              "8100.0"
            ]
          },
          "metadata": {},
          "execution_count": 39
        }
      ]
    },
    {
      "cell_type": "code",
      "source": [
        "number = 2022\n",
        "speak = \"when you realise \" + str(number) + \" is just 2020 too...\"\n",
        "print(speak)"
      ],
      "metadata": {
        "colab": {
          "base_uri": "https://localhost:8080/"
        },
        "id": "3isYR-dTFWFu",
        "outputId": "d75ff18c-335b-4013-ec45-90ddab0c583c"
      },
      "execution_count": null,
      "outputs": [
        {
          "output_type": "stream",
          "name": "stdout",
          "text": [
            "when you realise 2022 is just 2020 too...\n"
          ]
        }
      ]
    },
    {
      "cell_type": "code",
      "source": [
        "a=True \n",
        "b=False\n",
        "output = (\" your a Monster \")\n",
        "a = (\" Pizza\")\n",
        "b = (\"Pineapple \")\n",
        "print(a+b)"
      ],
      "metadata": {
        "colab": {
          "base_uri": "https://localhost:8080/"
        },
        "id": "2Nc9FwpcGqtV",
        "outputId": "46c62704-78e5-4be3-c3fd-83b342d70916"
      },
      "execution_count": null,
      "outputs": [
        {
          "output_type": "stream",
          "name": "stdout",
          "text": [
            " PizzaPineapple \n"
          ]
        }
      ]
    },
    {
      "cell_type": "code",
      "source": [
        "a = [4, 7, 3, 5, 9]\n",
        "print"
      ],
      "metadata": {
        "id": "USk31VeNxTzF"
      },
      "execution_count": null,
      "outputs": []
    },
    {
      "cell_type": "markdown",
      "source": [
        "##Lists, range, and for commands"
      ],
      "metadata": {
        "id": "Xy5bl6fgaLvA"
      }
    },
    {
      "cell_type": "code",
      "source": [
        "movies = [\"star wars: the clone wars\", \"spongebob\", \"adventure time\", \"phineas & ferb\", \"regular show\"]\n",
        "print(movies)\n",
        "x = sorted(movies)\n",
        "print(x)\n",
        "movies.sort()\n",
        "print(movies)\n",
        "y = sorted(movies, reverse=True)\n",
        "print(y)\n",
        "len(movies)\n",
        "print(\"I have \" + str(len(movies)) + \" favorite movies\")"
      ],
      "metadata": {
        "colab": {
          "base_uri": "https://localhost:8080/"
        },
        "id": "Ztq7dkpfMpAP",
        "outputId": "dc01f452-5538-407b-9a7f-d0b69675caf5"
      },
      "execution_count": null,
      "outputs": [
        {
          "output_type": "stream",
          "name": "stdout",
          "text": [
            "['star wars: the clone wars', 'spongebob', 'adventure time', 'phineas & ferb', 'regular show']\n",
            "['adventure time', 'phineas & ferb', 'regular show', 'spongebob', 'star wars: the clone wars']\n",
            "['adventure time', 'phineas & ferb', 'regular show', 'spongebob', 'star wars: the clone wars']\n",
            "['star wars: the clone wars', 'spongebob', 'regular show', 'phineas & ferb', 'adventure time']\n",
            "I have 5 favorite movies\n"
          ]
        }
      ]
    },
    {
      "cell_type": "code",
      "source": [
        "tvshows = ['stranger things', 'regular show', 'chowder', 'spongebob', 'game of thrones']\n",
        "for show in tvshows:\n",
        "    print(show)"
      ],
      "metadata": {
        "colab": {
          "base_uri": "https://localhost:8080/"
        },
        "id": "a1o21DB5yWFU",
        "outputId": "a849f5ed-e962-4eb4-ce0d-f7a7cdec72c5"
      },
      "execution_count": null,
      "outputs": [
        {
          "output_type": "stream",
          "name": "stdout",
          "text": [
            "stranger things\n",
            "regular show\n",
            "chowder\n",
            "spongebob\n",
            "game of thrones\n"
          ]
        }
      ]
    },
    {
      "cell_type": "code",
      "source": [
        "tvshows = ['stranger things', 'regular show', 'chowder', 'spongebob', 'game of thrones']\n",
        "for show in tvshows:\n",
        "    print(show.title() + \", is a great TV show.\")\n",
        "print(\"I love these show\")"
      ],
      "metadata": {
        "colab": {
          "base_uri": "https://localhost:8080/"
        },
        "id": "5iXvewc-0llh",
        "outputId": "ba6eae09-1410-4fa2-8dea-3fa08b599bc9"
      },
      "execution_count": null,
      "outputs": [
        {
          "output_type": "stream",
          "name": "stdout",
          "text": [
            "Stranger Things, is a great TV show.\n",
            "Regular Show, is a great TV show.\n",
            "Chowder, is a great TV show.\n",
            "Spongebob, is a great TV show.\n",
            "Game Of Thrones, is a great TV show.\n",
            "I love these show\n"
          ]
        }
      ]
    },
    {
      "cell_type": "code",
      "source": [
        "nums = list(range(0, 20, 2))\n",
        "print(nums)"
      ],
      "metadata": {
        "colab": {
          "base_uri": "https://localhost:8080/"
        },
        "id": "0A43KWvQ3-CT",
        "outputId": "584f215c-b965-4a04-d0a8-4fc2dc296038"
      },
      "execution_count": null,
      "outputs": [
        {
          "output_type": "stream",
          "name": "stdout",
          "text": [
            "[0, 2, 4, 6, 8, 10, 12, 14, 16, 18]\n"
          ]
        }
      ]
    },
    {
      "cell_type": "code",
      "source": [
        "odd_number = list(range(1,20, 2))\n",
        "print(odd_number)"
      ],
      "metadata": {
        "colab": {
          "base_uri": "https://localhost:8080/"
        },
        "id": "NzMwrcWlDXNh",
        "outputId": "ad24cf04-1060-4b75-aeda-1200b4c3be98"
      },
      "execution_count": null,
      "outputs": [
        {
          "output_type": "stream",
          "name": "stdout",
          "text": [
            "[1, 3, 5, 7, 9, 11, 13, 15, 17, 19]\n"
          ]
        }
      ]
    },
    {
      "cell_type": "code",
      "source": [
        "even_number = list(range(0, 20, 2))\n",
        "print(even_number)"
      ],
      "metadata": {
        "colab": {
          "base_uri": "https://localhost:8080/"
        },
        "id": "jnipl5uLFL1W",
        "outputId": "2e6953bf-35e0-448c-8045-0c0279238643"
      },
      "execution_count": null,
      "outputs": [
        {
          "output_type": "stream",
          "name": "stdout",
          "text": [
            "[0, 2, 4, 6, 8, 10, 12, 14, 16, 18]\n"
          ]
        }
      ]
    },
    {
      "cell_type": "code",
      "source": [
        "nums = list(range(0, 20, 2))\n",
        "print(nums)\n",
        "\n",
        "print(min(nums))\n",
        "\n",
        "print(max(nums))\n",
        "\n",
        "print(sum(nums))"
      ],
      "metadata": {
        "colab": {
          "base_uri": "https://localhost:8080/"
        },
        "id": "kijyO5Rk7r-o",
        "outputId": "4c1938f6-ee9d-47f8-ae5e-b92720c63b93"
      },
      "execution_count": null,
      "outputs": [
        {
          "output_type": "stream",
          "name": "stdout",
          "text": [
            "[0, 2, 4, 6, 8, 10, 12, 14, 16, 18]\n",
            "0\n",
            "18\n",
            "90\n"
          ]
        }
      ]
    },
    {
      "cell_type": "code",
      "source": [
        "tvshows = ['stranger things', 'regular show', 'chowder', 'spongebob', 'game of thrones']\n",
        "tvshows.sort()\n",
        "print(tvshows)"
      ],
      "metadata": {
        "colab": {
          "base_uri": "https://localhost:8080/"
        },
        "id": "pzMgr6AxGY20",
        "outputId": "6e66183d-46db-4c26-a35c-c446fe6e1dfb"
      },
      "execution_count": null,
      "outputs": [
        {
          "output_type": "stream",
          "name": "stdout",
          "text": [
            "['chowder', 'game of thrones', 'regular show', 'spongebob', 'stranger things']\n"
          ]
        }
      ]
    },
    {
      "cell_type": "markdown",
      "source": [
        "##Lists, if, for, else, and elif command functions"
      ],
      "metadata": {
        "id": "9zNZaOKBZ7fe"
      }
    },
    {
      "cell_type": "code",
      "source": [
        "we = ['me', 'my', 'moe']\n",
        "print(we[0:3])\n",
        "print(we[2:3])"
      ],
      "metadata": {
        "colab": {
          "base_uri": "https://localhost:8080/"
        },
        "id": "ud2UfmVuJ25n",
        "outputId": "1caa2e8b-61a6-4605-b48c-4474d27d6d67"
      },
      "execution_count": null,
      "outputs": [
        {
          "output_type": "stream",
          "name": "stdout",
          "text": [
            "['me', 'my', 'moe']\n",
            "['moe']\n"
          ]
        }
      ]
    },
    {
      "cell_type": "code",
      "source": [
        "tvshows = ['stranger things', 'regular show', 'chowder', 'spongebob', 'game of thrones']\n",
        "for shows in tvshows[:3]:\n",
        "    print(shows.title())"
      ],
      "metadata": {
        "colab": {
          "base_uri": "https://localhost:8080/"
        },
        "id": "yYhOY4z8HW0S",
        "outputId": "d45ec0f4-7aca-4c68-d444-868575958cdf"
      },
      "execution_count": null,
      "outputs": [
        {
          "output_type": "stream",
          "name": "stdout",
          "text": [
            "Stranger Things\n",
            "Regular Show\n",
            "Chowder\n"
          ]
        }
      ]
    },
    {
      "cell_type": "code",
      "source": [
        "tvshows = ['stranger things', 'regular show', 'chowder', 'spongebob', 'game of thrones']\n",
        "for shows in tvshows[3:5]:\n",
        "  print(shows.title())"
      ],
      "metadata": {
        "colab": {
          "base_uri": "https://localhost:8080/"
        },
        "id": "ytAyWEP3LMzQ",
        "outputId": "5ecac627-fd93-4f67-9b91-56aba41a1571"
      },
      "execution_count": null,
      "outputs": [
        {
          "output_type": "stream",
          "name": "stdout",
          "text": [
            "Spongebob\n",
            "Game Of Thrones\n"
          ]
        }
      ]
    },
    {
      "cell_type": "code",
      "source": [
        "#Example of conditional operations\n",
        "motorcycles = ['ducati', 'bmw', 'yamaha', 'honda']\n",
        "for bike in motorcycles:\n",
        "  if bike =='ducati':\n",
        "    print(bike.upper())\n",
        "  else:\n",
        "    print(bike.lower())"
      ],
      "metadata": {
        "colab": {
          "base_uri": "https://localhost:8080/"
        },
        "id": "_B2VOWJyNdhL",
        "outputId": "2d8bd084-f644-434f-9dee-2cf188b93d1e"
      },
      "execution_count": null,
      "outputs": [
        {
          "output_type": "stream",
          "name": "stdout",
          "text": [
            "DUCATI\n",
            "bmw\n",
            "yamaha\n",
            "honda\n"
          ]
        }
      ]
    },
    {
      "cell_type": "code",
      "source": [
        "patient_exam = 'echo'\n",
        "if patient_exam != 'ecg':\n",
        "  print('incorrect exam!')"
      ],
      "metadata": {
        "colab": {
          "base_uri": "https://localhost:8080/"
        },
        "id": "mN7vrov1RLf8",
        "outputId": "d8062092-57e4-4738-9c4e-c92099784d8f"
      },
      "execution_count": null,
      "outputs": [
        {
          "output_type": "stream",
          "name": "stdout",
          "text": [
            "incorrect exam!\n"
          ]
        }
      ]
    },
    {
      "cell_type": "code",
      "source": [
        "readmit_days_after_discharge = 29\n",
        "if readmit_days_after_discharge < 30:\n",
        "    print(\"Patient was readmited within 30 days\")\n",
        "else:\n",
        "    print(\"Patient was readmited after 30 days\")"
      ],
      "metadata": {
        "colab": {
          "base_uri": "https://localhost:8080/"
        },
        "id": "qNS3shwhSOnq",
        "outputId": "121809e3-be95-45df-87fa-a575d4f6fdba"
      },
      "execution_count": null,
      "outputs": [
        {
          "output_type": "stream",
          "name": "stdout",
          "text": [
            "Patient was readmited within 30 days\n"
          ]
        }
      ]
    },
    {
      "cell_type": "code",
      "source": [
        "x ='Hello'\n",
        "y ='hello'\n",
        "if x == y:\n",
        "  print('Equall')\n",
        "else:\n",
        "  print('Not equall')"
      ],
      "metadata": {
        "colab": {
          "base_uri": "https://localhost:8080/"
        },
        "id": "iLg2SloMXL52",
        "outputId": "b7c74d3e-d32f-48a7-a54c-bfd80d0c2cf9"
      },
      "execution_count": null,
      "outputs": [
        {
          "output_type": "stream",
          "name": "stdout",
          "text": [
            "Not equall\n"
          ]
        }
      ]
    },
    {
      "cell_type": "code",
      "source": [
        "toppings = ['chocolate', 'sprinkels']\n",
        "\n",
        "for topping in toppings:\n",
        "  if topping == 'chocolate':\n",
        "    print(\"All out of chocolate!\")\n",
        "  else:\n",
        "    print(\"Adding the following topping! \" + topping)"
      ],
      "metadata": {
        "colab": {
          "base_uri": "https://localhost:8080/"
        },
        "id": "S9jjz4VJX8Ok",
        "outputId": "f8f92e7d-03e8-46dd-fe66-f7558a681a4a"
      },
      "execution_count": null,
      "outputs": [
        {
          "output_type": "stream",
          "name": "stdout",
          "text": [
            "All out of chocolate!\n",
            "Adding the following topping! sprinkels\n"
          ]
        }
      ]
    },
    {
      "cell_type": "code",
      "source": [
        "login = ['Big Smoke247', 'RunningHampster389', 'username256', 'John on the Job', 'Enrique', 'BadKarma']\n",
        "for user in login:\n",
        "  if user == 'Big Smoke247':\n",
        "    print('Welcome your higness, to your magnificent kingdom mr./mrs. ' + user)\n",
        "  else:\n",
        "    print('Welcome user ' + user)"
      ],
      "metadata": {
        "colab": {
          "base_uri": "https://localhost:8080/"
        },
        "id": "0QgDTzW6qVO6",
        "outputId": "176423ac-8088-40c6-e230-ef030e2e0a2d"
      },
      "execution_count": null,
      "outputs": [
        {
          "output_type": "stream",
          "name": "stdout",
          "text": [
            "Welcome your higness, to your magnificent kingdom mr./mrs. Big Smoke247\n",
            "Welcome user RunningHampster389\n",
            "Welcome user username256\n",
            "Welcome user John on the Job\n",
            "Welcome user Enrique\n",
            "Welcome user BadKarma\n"
          ]
        }
      ]
    },
    {
      "cell_type": "code",
      "source": [
        "# lesson 5 question 2 draft\n",
        "numbers = [1,2,3,4,5,6,7,8,9,10]\n",
        "\n",
        "print(numbers)\n",
        "\n",
        "\n",
        "for num in numbers:\n",
        "  if num == 1:\n",
        "    print(str(num) + 'st')\n",
        "  elif num == 2:\n",
        "    print(str(num) + 'nd')\n",
        "  elif num == 3:\n",
        "    print(str(num) + 'rd')\n",
        "  else:\n",
        "    print(str(num) + 'th')\n"
      ],
      "metadata": {
        "colab": {
          "base_uri": "https://localhost:8080/"
        },
        "id": "vv3inhcQuby8",
        "outputId": "36245689-de97-4e5b-9900-ade652b8bba5"
      },
      "execution_count": null,
      "outputs": [
        {
          "output_type": "stream",
          "name": "stdout",
          "text": [
            "[1, 2, 3, 4, 5, 6, 7, 8, 9, 10]\n",
            "1st\n",
            "2nd\n",
            "3rd\n",
            "4th\n",
            "5th\n",
            "6th\n",
            "7th\n",
            "8th\n",
            "9th\n",
            "10th\n"
          ]
        }
      ]
    },
    {
      "cell_type": "markdown",
      "source": [
        "##Dictionaries and lists"
      ],
      "metadata": {
        "id": "74phS3FKZtrJ"
      }
    },
    {
      "cell_type": "code",
      "source": [
        "test_1 = {'Jim': '12', 'William': '25', 'Steve': '19'}\n",
        "print(test_1['Jim'])\n",
        "print(test_1['William'])\n",
        "print(test_1['Steve'])\n",
        "test_1 [ 'MRN' ] = '000000'\n",
        "test_1 [ 'Last_exam' ] = 'echo'\n",
        "test_1"
      ],
      "metadata": {
        "colab": {
          "base_uri": "https://localhost:8080/"
        },
        "id": "dZbcPPVs78nY",
        "outputId": "3756eb7b-997c-45e9-827a-7c1a2f5155ce"
      },
      "execution_count": null,
      "outputs": [
        {
          "output_type": "stream",
          "name": "stdout",
          "text": [
            "12\n",
            "25\n",
            "19\n"
          ]
        },
        {
          "output_type": "execute_result",
          "data": {
            "text/plain": [
              "{'Jim': '12',\n",
              " 'Last_exam': 'echo',\n",
              " 'MRN': '000000',\n",
              " 'Steve': '19',\n",
              " 'William': '25'}"
            ]
          },
          "metadata": {},
          "execution_count": 9
        }
      ]
    },
    {
      "cell_type": "code",
      "source": [
        "data={\n",
        "    \"patient_1\":{\n",
        "        'first_name':'Jean',\n",
        "        'Last_name':'picard'\n",
        "    },\n",
        "    \n",
        "    \"patient_2\":{'first_name':'Jeffery',\n",
        "               'Last_name':'monib'\n",
        "    }\n",
        "}\n",
        "print(data)\n",
        "{'patient_1': {'first_name': 'Jean', 'Last_name': 'picard'}, 'patient_2': {'first_name': 'Jeffery', 'Last_name': 'monib'}}\n"
      ],
      "metadata": {
        "colab": {
          "base_uri": "https://localhost:8080/"
        },
        "id": "9MgFJh8r-ITE",
        "outputId": "458a8d47-d712-46cd-a3f2-c056137bf841"
      },
      "execution_count": null,
      "outputs": [
        {
          "output_type": "stream",
          "name": "stdout",
          "text": [
            "{'patient_1': {'first_name': 'Jean', 'Last_name': 'picard'}, 'patient_2': {'first_name': 'Jeffery', 'Last_name': 'monib'}}\n"
          ]
        },
        {
          "output_type": "execute_result",
          "data": {
            "text/plain": [
              "{'patient_1': {'Last_name': 'picard', 'first_name': 'Jean'},\n",
              " 'patient_2': {'Last_name': 'monib', 'first_name': 'Jeffery'}}"
            ]
          },
          "metadata": {},
          "execution_count": 92
        }
      ]
    },
    {
      "cell_type": "code",
      "source": [
        "dictionary_1 = {\n",
        "        'first_name':'tim', \n",
        "        'last_name': 'tom',\n",
        "        'cty': '12345679',\n",
        "        'dob': '12311995'\n",
        "}\n",
        "print(dictionary_1)"
      ],
      "metadata": {
        "colab": {
          "base_uri": "https://localhost:8080/"
        },
        "id": "zX184iMNEGAJ",
        "outputId": "3cafcc21-916a-44cd-9cb3-add46f47a367"
      },
      "execution_count": null,
      "outputs": [
        {
          "output_type": "stream",
          "name": "stdout",
          "text": [
            "{'first_name': 'tim', 'last_name': 'tom', 'cty': '12345679', 'dob': '12311995'}\n"
          ]
        }
      ]
    },
    {
      "cell_type": "code",
      "source": [
        "name = {'first_name': 'fred', 'last_name': 'simmons'}\n",
        "C = name['first_name']\n",
        "B = name['last_name']\n",
        "\n",
        "print(\"Hello \" + C + \" \" + B + \", how's your day today?\")"
      ],
      "metadata": {
        "colab": {
          "base_uri": "https://localhost:8080/"
        },
        "id": "7YKc4b4CJzKP",
        "outputId": "e10bbfc9-3ab4-4d97-bede-15af34768030"
      },
      "execution_count": null,
      "outputs": [
        {
          "output_type": "stream",
          "name": "stdout",
          "text": [
            "Hello fred simmons, how's your day today?\n"
          ]
        }
      ]
    },
    {
      "cell_type": "code",
      "source": [
        "data = {\n",
        "    \"person_1\": {\n",
        "        'first_name':'Abraham',\n",
        "        'last_name':'James',\n",
        "        'age':'24'\n",
        "    },\n",
        "\n",
        "    \"person_2\": {\n",
        "        'first_name':'Jeffery',\n",
        "        'last_name':'Simmons',\n",
        "        'age':'28'\n",
        "    },\n",
        "    \"person_3\": {\n",
        "        'first_name':'Ali',\n",
        "        'last_name':'Tammy',\n",
        "        'age':'32'\n",
        "    },\n",
        "    \"person_4\": {\n",
        "        'first_name':'John',\n",
        "        'last_name':'Marry',\n",
        "        'age':'30'\n",
        "    },\n",
        "    \"person_5\": {\n",
        "        'first_name':'Patrick',\n",
        "        'last_name':'Joe',\n",
        "        'age':'18'\n",
        "    }\n",
        "}\n",
        "for f in data:\n",
        "  print(data[f])"
      ],
      "metadata": {
        "id": "KpN39SYyGsTp",
        "colab": {
          "base_uri": "https://localhost:8080/"
        },
        "outputId": "46f4879e-2681-4cc8-cac9-22abc6a74ff8"
      },
      "execution_count": null,
      "outputs": [
        {
          "output_type": "stream",
          "name": "stdout",
          "text": [
            "{'first_name': 'Abraham', 'last_name': 'James', 'age': '24'}\n",
            "{'first_name': 'Jeffery', 'last_name': 'Simmons', 'age': '28'}\n",
            "{'first_name': 'Ali', 'last_name': 'Tammy', 'age': '32'}\n",
            "{'first_name': 'John', 'last_name': 'Marry', 'age': '30'}\n",
            "{'first_name': 'Patrick', 'last_name': 'Joe', 'age': '18'}\n"
          ]
        }
      ]
    },
    {
      "cell_type": "markdown",
      "source": [
        "##Nested Dictionary"
      ],
      "metadata": {
        "id": "jCXWqHTInfTu"
      }
    },
    {
      "cell_type": "code",
      "source": [
        "Top_Rated_Games={1:{'game': 'half life 2', 'release': 'November 16, 2004', 'rating': '9.7/10 IGN'},\n",
        "                 2:{'game': 'minecraft', 'release': 'November 18, 2011', 'rating': '9/10 IGN'},\n",
        "                 3:{'game': 'super mario 64', 'release': 'June 23, 1996', 'rating': '9.8/10 IGN'}}\n",
        "\n",
        "for game_info, rating_info in Top_Rated_Games.items():\n",
        "  print(\"\\ngame: \", game_info)\n",
        "\n",
        "  for key in rating_info:\n",
        "    print(key + ':', rating_info[key])"
      ],
      "metadata": {
        "colab": {
          "base_uri": "https://localhost:8080/"
        },
        "id": "-OMytK5VncX-",
        "outputId": "8e0406b7-8c1d-48f0-882e-e40895e96507"
      },
      "execution_count": null,
      "outputs": [
        {
          "output_type": "stream",
          "name": "stdout",
          "text": [
            "\n",
            "game:  1\n",
            "game: half life 2\n",
            "release: November 16, 2004\n",
            "rating: 9.7/10 IGN\n",
            "\n",
            "game:  2\n",
            "game: minecraft\n",
            "release: November 18, 2011\n",
            "rating: 9/10 IGN\n",
            "\n",
            "game:  3\n",
            "game: super mario 64\n",
            "release: June 23, 1996\n",
            "rating: 9.8/10 IGN\n"
          ]
        }
      ]
    },
    {
      "cell_type": "code",
      "source": [
        "Top_Rated_Games={1:{'game': 'half life 2', 'release': 'November 16, 2004', 'rating': '9.7/10 IGN'},\n",
        "                 2:{'game': 'minecraft', 'release': 'November 18, 2011', 'rating': '9/10 IGN'},\n",
        "                 3:{'game': 'super mario 64', 'release': 'June 23, 1996', 'rating': '9.8/10 IGN'}}\n",
        "p_f_g = Top_Rated_Games['rating']\n",
        "\n",
        "\n",
        "for game_info, rating_info in Top_Rated_Games.items():\n",
        "  print(\"\\ngame: \", game_info)\n",
        "\n",
        "  for key in rating_info:\n",
        "    print(key + ':', rating_info[key])\n",
        "\n",
        "personal_fav_games = ['minecraft', 'half life 2']\n",
        "for f in personal_fav_games:\n",
        "   print(rating_info)\n",
        "\n",
        "   if f in personal_fav_games:\n",
        "       print(\"One of the greatest's games ever made in my opinion, it was even rated a, \" + p_f_g + \" by IGN\")"
      ],
      "metadata": {
        "colab": {
          "base_uri": "https://localhost:8080/",
          "height": 234
        },
        "id": "xJMUeqga0nhb",
        "outputId": "7127616b-0388-498d-8710-0c49acb315a3"
      },
      "execution_count": null,
      "outputs": [
        {
          "output_type": "error",
          "ename": "KeyError",
          "evalue": "ignored",
          "traceback": [
            "\u001b[0;31m---------------------------------------------------------------------------\u001b[0m",
            "\u001b[0;31mKeyError\u001b[0m                                  Traceback (most recent call last)",
            "\u001b[0;32m<ipython-input-111-ca8a18cb3e3e>\u001b[0m in \u001b[0;36m<module>\u001b[0;34m()\u001b[0m\n\u001b[1;32m      2\u001b[0m                  \u001b[0;36m2\u001b[0m\u001b[0;34m:\u001b[0m\u001b[0;34m{\u001b[0m\u001b[0;34m'game'\u001b[0m\u001b[0;34m:\u001b[0m \u001b[0;34m'minecraft'\u001b[0m\u001b[0;34m,\u001b[0m \u001b[0;34m'release'\u001b[0m\u001b[0;34m:\u001b[0m \u001b[0;34m'November 18, 2011'\u001b[0m\u001b[0;34m,\u001b[0m \u001b[0;34m'rating'\u001b[0m\u001b[0;34m:\u001b[0m \u001b[0;34m'9/10 IGN'\u001b[0m\u001b[0;34m}\u001b[0m\u001b[0;34m,\u001b[0m\u001b[0;34m\u001b[0m\u001b[0;34m\u001b[0m\u001b[0m\n\u001b[1;32m      3\u001b[0m                  3:{'game': 'super mario 64', 'release': 'June 23, 1996', 'rating': '9.8/10 IGN'}}\n\u001b[0;32m----> 4\u001b[0;31m \u001b[0mp_f_g\u001b[0m \u001b[0;34m=\u001b[0m \u001b[0mTop_Rated_Games\u001b[0m\u001b[0;34m[\u001b[0m\u001b[0;34m'rating'\u001b[0m\u001b[0;34m]\u001b[0m\u001b[0;34m\u001b[0m\u001b[0;34m\u001b[0m\u001b[0m\n\u001b[0m\u001b[1;32m      5\u001b[0m \u001b[0;34m\u001b[0m\u001b[0m\n\u001b[1;32m      6\u001b[0m \u001b[0;34m\u001b[0m\u001b[0m\n",
            "\u001b[0;31mKeyError\u001b[0m: 'rating'"
          ]
        }
      ]
    },
    {
      "cell_type": "markdown",
      "source": [
        "##Keys and Values"
      ],
      "metadata": {
        "id": "IKjW0v41ZU16"
      }
    },
    {
      "cell_type": "code",
      "source": [
        "data = {\n",
        "        'first_name':'Abraham',\n",
        "        'last_name':'James',\n",
        "        'age':'24',\n",
        "        'gender':'male'\n",
        "}\n",
        "for key, value in data.items():\n",
        "  print(\"\\nkey: \" + key)\n",
        "  print(\"\\nvalue: \" + value)"
      ],
      "metadata": {
        "colab": {
          "base_uri": "https://localhost:8080/"
        },
        "id": "AtO8KQwcUfsw",
        "outputId": "32912a30-ea85-458d-8711-6edcd2a12212"
      },
      "execution_count": null,
      "outputs": [
        {
          "output_type": "stream",
          "name": "stdout",
          "text": [
            "\n",
            "key: first_name\n",
            "\n",
            "value: Abraham\n",
            "\n",
            "key: last_name\n",
            "\n",
            "value: James\n",
            "\n",
            "key: age\n",
            "\n",
            "value: 24\n",
            "\n",
            "key: gender\n",
            "\n",
            "value: male\n"
          ]
        }
      ]
    },
    {
      "cell_type": "code",
      "source": [
        "ppl_1 = {'John': 30, 'Mary': 21, 'Bob': 43, 'Dan': 38, 'Edward': 29}\n",
        "print(ppl_1['John'])\n",
        "print(ppl_1['Mary'])\n",
        "print(ppl_1['Bob'])\n",
        "print(ppl_1['Dan'])\n",
        "print(ppl_1['Edward'])\n"
      ],
      "metadata": {
        "colab": {
          "base_uri": "https://localhost:8080/"
        },
        "id": "F1EkBW1EHDQ1",
        "outputId": "6ce58477-5c47-4310-8d5d-50c806a905f8"
      },
      "execution_count": null,
      "outputs": [
        {
          "output_type": "stream",
          "name": "stdout",
          "text": [
            "30\n",
            "21\n",
            "43\n",
            "38\n",
            "29\n"
          ]
        }
      ]
    },
    {
      "cell_type": "code",
      "source": [
        "Dictionaty_10 = {'Grape': 'is a fruit that can come in different colors','Python': 'Is a programming language use to code and analyze data', 'Google': \"Google is a search Engine\"}\n",
        "for i in Dictionaty_10:\n",
        "  print(i + \": \"+ Dictionaty_10[i])\n"
      ],
      "metadata": {
        "colab": {
          "base_uri": "https://localhost:8080/"
        },
        "id": "WToz7ucuMVdt",
        "outputId": "93ff1766-33c6-41ca-d8c9-7c04ec830d5d"
      },
      "execution_count": null,
      "outputs": [
        {
          "output_type": "stream",
          "name": "stdout",
          "text": [
            "Grape: is a fruit that can come in different colors\n",
            "Python: Is a programming language use to code and analyze data\n",
            "Google: Google is a search Engine\n"
          ]
        }
      ]
    },
    {
      "cell_type": "code",
      "source": [
        "# (while loop) this is different from the 'for' loop by being undetermindable until the value is met\n",
        "number = 1\n",
        "while number <= 5:\n",
        "  print(number)\n",
        "  number+=1"
      ],
      "metadata": {
        "colab": {
          "base_uri": "https://localhost:8080/"
        },
        "id": "USZIs4AKVpoR",
        "outputId": "21d7c564-7750-45b4-c116-40af707b447b"
      },
      "execution_count": null,
      "outputs": [
        {
          "output_type": "stream",
          "name": "stdout",
          "text": [
            "1\n",
            "2\n",
            "3\n",
            "4\n",
            "5\n"
          ]
        }
      ]
    },
    {
      "cell_type": "markdown",
      "source": [
        "##Messages and interactive messages"
      ],
      "metadata": {
        "id": "C7Tr1kZsZfYi"
      }
    },
    {
      "cell_type": "code",
      "source": [
        "message = input(\"please enter your first name \")\n",
        "print(message)\n",
        "age = input(\"please enter your age \")\n",
        "print(age)"
      ],
      "metadata": {
        "colab": {
          "base_uri": "https://localhost:8080/"
        },
        "id": "UxfxaA4jXo8v",
        "outputId": "6d1e7331-bcc6-40a4-8922-c98eaedacccb"
      },
      "execution_count": null,
      "outputs": [
        {
          "output_type": "stream",
          "name": "stdout",
          "text": [
            "please enter your first name Bob\n",
            "Bob\n",
            "please enter your age 21\n",
            "21\n"
          ]
        }
      ]
    },
    {
      "cell_type": "code",
      "source": [
        "prompt = \"input a message. I will repeat it unti you type 'quit'\"\n",
        "message = \"\"\n",
        "\n",
        "while message != 'quit':\n",
        "    message = input(prompt)\n",
        "    print(message)"
      ],
      "metadata": {
        "colab": {
          "base_uri": "https://localhost:8080/"
        },
        "id": "PJB8OE9lWZts",
        "outputId": "d8bae579-465b-4925-e224-76e7fdacee79"
      },
      "execution_count": null,
      "outputs": [
        {
          "output_type": "stream",
          "name": "stdout",
          "text": [
            "input a message. I will repeat it unti you type 'quit'quit\n",
            "quit\n"
          ]
        }
      ]
    },
    {
      "cell_type": "code",
      "source": [
        "prompt = \"input a message. I will repeat it unti you type 'quit'\"\n",
        "message = \"\"\n",
        "\n",
        "\n",
        "active = True\n",
        "while active:\n",
        "  message = input(prompt)\n",
        "\n",
        "  if message == 'quit':\n",
        "      active = False\n",
        "\n",
        "  else:\n",
        "    print(message)\n"
      ],
      "metadata": {
        "colab": {
          "base_uri": "https://localhost:8080/"
        },
        "id": "hWOg46YfYMKj",
        "outputId": "b4adb36d-031c-44f9-b323-b04552094af3"
      },
      "execution_count": null,
      "outputs": [
        {
          "name": "stdout",
          "output_type": "stream",
          "text": [
            "input a message. I will repeat it unti you type 'quit'quit\n"
          ]
        }
      ]
    },
    {
      "cell_type": "markdown",
      "source": [
        "##Functions"
      ],
      "metadata": {
        "id": "BkmEOVrnZmLe"
      }
    },
    {
      "cell_type": "code",
      "source": [
        "def my_function(age):\n",
        "  \"\"\"This function displays age\"\"\"\n",
        "age = 24\n",
        "print(\"my name is Sam, and I am \" + str(age) + \" years old.\")\n"
      ],
      "metadata": {
        "id": "6iHx48ztbrlO",
        "colab": {
          "base_uri": "https://localhost:8080/"
        },
        "outputId": "123f79c6-fc86-4114-98a0-66250a3c96d3"
      },
      "execution_count": null,
      "outputs": [
        {
          "output_type": "stream",
          "name": "stdout",
          "text": [
            "my name is Sam, and I am 24 years old.\n"
          ]
        }
      ]
    },
    {
      "cell_type": "code",
      "source": [
        "def person(num):\n",
        "  \"\"\"This function displays a greeting\"\"\"\n",
        "  text = \"My name is john, and I am {} years old\"\n",
        "  print(text.format(num))\n",
        "  print(\"Hello there my name is john, I am \" + str(num) + \" years old\")\n",
        "num=20\n",
        "person(num)"
      ],
      "metadata": {
        "colab": {
          "base_uri": "https://localhost:8080/"
        },
        "id": "K3QA1sCVImRB",
        "outputId": "83bab3d5-edfa-4e19-8e8a-6acb76204613"
      },
      "execution_count": null,
      "outputs": [
        {
          "output_type": "stream",
          "name": "stdout",
          "text": [
            "My name is john, and I am 20 years old\n",
            "Hello there my name is john, I am 20 years old\n"
          ]
        }
      ]
    },
    {
      "cell_type": "code",
      "source": [
        "def greeting(first_name, last_name, old=21):\n",
        "  \"\"\"Greeting someone by their first and last name, and their age\"\"\"\n",
        "  print(\"Hello there my name \" + first_name +  \"\" + last_name )\n",
        "  print(\"I am \" + str(old) + \", years old\")\n",
        "greeting(first_name = 'Phill', last_name = ' Stone')\n",
        "greeting(old = 29, first_name = 'Joe', last_name = ' John')\n",
        "greeting(old = 32, first_name = 'Carlos', last_name = ' Smith')"
      ],
      "metadata": {
        "colab": {
          "base_uri": "https://localhost:8080/"
        },
        "id": "oEDSc7vcImDL",
        "outputId": "f5c39445-02e4-4588-d455-40f628e08ec9"
      },
      "execution_count": null,
      "outputs": [
        {
          "output_type": "stream",
          "name": "stdout",
          "text": [
            "Hello there my name Phill Stone\n",
            "I am 21, years old\n",
            "Hello there my name Joe John\n",
            "I am 29, years old\n",
            "Hello there my name Carlos Smith\n",
            "I am 32, years old\n"
          ]
        }
      ]
    },
    {
      "cell_type": "code",
      "source": [
        "def my_function(state , country = \"United States\"):\n",
        "  print(\"This state , \" + state + \" , is in the \" + country)\n",
        "\n",
        "my_function(\"New York\")\n",
        "my_function(\"New Jersey\")\n",
        "my_function(\"Florida\")\n"
      ],
      "metadata": {
        "colab": {
          "base_uri": "https://localhost:8080/"
        },
        "id": "P7Zp84oxIl8y",
        "outputId": "c0ccb523-6a58-44aa-df0b-8b99ece19374"
      },
      "execution_count": null,
      "outputs": [
        {
          "output_type": "stream",
          "name": "stdout",
          "text": [
            "This state , New York , is in the United States\n",
            "This state , New Jersey , is in the United States\n",
            "This state , Florida , is in the United States\n"
          ]
        }
      ]
    },
    {
      "cell_type": "markdown",
      "source": [
        "##Numpy"
      ],
      "metadata": {
        "id": "kIwxao5htgMp"
      }
    },
    {
      "cell_type": "code",
      "source": [
        "import numpy as np"
      ],
      "metadata": {
        "id": "y4xxBtv1IlxM"
      },
      "execution_count": null,
      "outputs": []
    },
    {
      "cell_type": "code",
      "source": [
        "np_city = np.array([1,2,3,])\n",
        "print(np_city)"
      ],
      "metadata": {
        "colab": {
          "base_uri": "https://localhost:8080/"
        },
        "id": "QgcPEYCaI14Y",
        "outputId": "2bc81f8c-88bc-4804-a991-7e6a2f68d90f"
      },
      "execution_count": null,
      "outputs": [
        {
          "output_type": "stream",
          "name": "stdout",
          "text": [
            "[1 2 3]\n"
          ]
        }
      ]
    },
    {
      "cell_type": "code",
      "source": [
        "import numpy as np\n",
        "num = np.array([1, 2, 3, 4, 5, 6, 7, 1, 2, 4, 7, 5, 7])\n",
        "print(np.max(num))\n",
        "print(np.min(num))\n",
        "print(np.mean(num))\n",
        "print(np.median(num))"
      ],
      "metadata": {
        "colab": {
          "base_uri": "https://localhost:8080/"
        },
        "id": "e7BPz74Zr4Fx",
        "outputId": "4893c5a0-5451-4239-add1-d2057c365912"
      },
      "execution_count": null,
      "outputs": [
        {
          "output_type": "stream",
          "name": "stdout",
          "text": [
            "7\n",
            "1\n",
            "4.153846153846154\n",
            "4.0\n"
          ]
        }
      ]
    },
    {
      "cell_type": "code",
      "source": [
        "# Get the max and indices of maximum element in numpy array\n",
        "import numpy as np\n",
        "num = np.array([11, 12, 13, 14, 15, 16, 17, 15, 11, 12, 14, 15, 16, 17])\n",
        "result = np.where(num== np.max(num))\n",
        "print('return max value',np.max(num))\n",
        "print('Returned tuple of arrays :', result)\n",
        "print('List of Indices of maximum element :', result[0])"
      ],
      "metadata": {
        "colab": {
          "base_uri": "https://localhost:8080/"
        },
        "id": "owjMilIGtz9x",
        "outputId": "1bf7dc4a-15b5-4bbe-df41-f50de4b9e545"
      },
      "execution_count": null,
      "outputs": [
        {
          "output_type": "stream",
          "name": "stdout",
          "text": [
            "return max value 17\n",
            "Returned tuple of arrays : (array([ 6, 13]),)\n",
            "List of Indices of maximum element : [ 6 13]\n"
          ]
        }
      ]
    },
    {
      "cell_type": "markdown",
      "source": [
        "##pandas"
      ],
      "metadata": {
        "id": "CViYyIH_GUpG"
      }
    },
    {
      "cell_type": "code",
      "source": [
        "#Example\n",
        "\n",
        "#Create a simple Pandas Series from a list:\n",
        "\n",
        "import pandas as pd\n",
        "a = [1, 7, 2]\n",
        "myvar = pd.Series(a)\n",
        "print(myvar)\n",
        "\n",
        "print(myvar[1])"
      ],
      "metadata": {
        "colab": {
          "base_uri": "https://localhost:8080/"
        },
        "id": "MTf33dspxRq7",
        "outputId": "f6248eaa-6bd6-41e2-a73e-c4ece7cf0cdb"
      },
      "execution_count": null,
      "outputs": [
        {
          "output_type": "stream",
          "name": "stdout",
          "text": [
            "0    1\n",
            "1    7\n",
            "2    2\n",
            "dtype: int64\n",
            "7\n"
          ]
        }
      ]
    },
    {
      "cell_type": "markdown",
      "source": [
        "random numbers"
      ],
      "metadata": {
        "id": "b8o2ZRi3y8A_"
      }
    },
    {
      "cell_type": "code",
      "source": [
        "import numpy as np\n",
        "import pandas as pd\n",
        "from numpy.random import randn\n",
        "np.random.seed(123)\n",
        "\n",
        "df = pd.DataFrame(randn(5, 4), ['A', 'B', 'C', 'D', 'E',], ['W', 'X', 'Y', 'Z'])\n",
        "columns=['W','X','Y','Z']\n",
        "df[columns]\n",
        "df['new'] = df['W'] + df['Y']\n",
        "df"
      ],
      "metadata": {
        "colab": {
          "base_uri": "https://localhost:8080/",
          "height": 206
        },
        "id": "mN9xBIkIGFay",
        "outputId": "b3ada6e7-fe56-4f70-eef3-28ff8aa17974"
      },
      "execution_count": null,
      "outputs": [
        {
          "output_type": "execute_result",
          "data": {
            "text/html": [
              "\n",
              "  <div id=\"df-5d3bd895-3ee7-49f6-a54a-fb267dec9d5a\">\n",
              "    <div class=\"colab-df-container\">\n",
              "      <div>\n",
              "<style scoped>\n",
              "    .dataframe tbody tr th:only-of-type {\n",
              "        vertical-align: middle;\n",
              "    }\n",
              "\n",
              "    .dataframe tbody tr th {\n",
              "        vertical-align: top;\n",
              "    }\n",
              "\n",
              "    .dataframe thead th {\n",
              "        text-align: right;\n",
              "    }\n",
              "</style>\n",
              "<table border=\"1\" class=\"dataframe\">\n",
              "  <thead>\n",
              "    <tr style=\"text-align: right;\">\n",
              "      <th></th>\n",
              "      <th>W</th>\n",
              "      <th>X</th>\n",
              "      <th>Y</th>\n",
              "      <th>Z</th>\n",
              "      <th>new</th>\n",
              "    </tr>\n",
              "  </thead>\n",
              "  <tbody>\n",
              "    <tr>\n",
              "      <th>A</th>\n",
              "      <td>-1.085631</td>\n",
              "      <td>0.997345</td>\n",
              "      <td>0.282978</td>\n",
              "      <td>-1.506295</td>\n",
              "      <td>-0.802652</td>\n",
              "    </tr>\n",
              "    <tr>\n",
              "      <th>B</th>\n",
              "      <td>-0.578600</td>\n",
              "      <td>1.651437</td>\n",
              "      <td>-2.426679</td>\n",
              "      <td>-0.428913</td>\n",
              "      <td>-3.005279</td>\n",
              "    </tr>\n",
              "    <tr>\n",
              "      <th>C</th>\n",
              "      <td>1.265936</td>\n",
              "      <td>-0.866740</td>\n",
              "      <td>-0.678886</td>\n",
              "      <td>-0.094709</td>\n",
              "      <td>0.587050</td>\n",
              "    </tr>\n",
              "    <tr>\n",
              "      <th>D</th>\n",
              "      <td>1.491390</td>\n",
              "      <td>-0.638902</td>\n",
              "      <td>-0.443982</td>\n",
              "      <td>-0.434351</td>\n",
              "      <td>1.047408</td>\n",
              "    </tr>\n",
              "    <tr>\n",
              "      <th>E</th>\n",
              "      <td>2.205930</td>\n",
              "      <td>2.186786</td>\n",
              "      <td>1.004054</td>\n",
              "      <td>0.386186</td>\n",
              "      <td>3.209984</td>\n",
              "    </tr>\n",
              "  </tbody>\n",
              "</table>\n",
              "</div>\n",
              "      <button class=\"colab-df-convert\" onclick=\"convertToInteractive('df-5d3bd895-3ee7-49f6-a54a-fb267dec9d5a')\"\n",
              "              title=\"Convert this dataframe to an interactive table.\"\n",
              "              style=\"display:none;\">\n",
              "        \n",
              "  <svg xmlns=\"http://www.w3.org/2000/svg\" height=\"24px\"viewBox=\"0 0 24 24\"\n",
              "       width=\"24px\">\n",
              "    <path d=\"M0 0h24v24H0V0z\" fill=\"none\"/>\n",
              "    <path d=\"M18.56 5.44l.94 2.06.94-2.06 2.06-.94-2.06-.94-.94-2.06-.94 2.06-2.06.94zm-11 1L8.5 8.5l.94-2.06 2.06-.94-2.06-.94L8.5 2.5l-.94 2.06-2.06.94zm10 10l.94 2.06.94-2.06 2.06-.94-2.06-.94-.94-2.06-.94 2.06-2.06.94z\"/><path d=\"M17.41 7.96l-1.37-1.37c-.4-.4-.92-.59-1.43-.59-.52 0-1.04.2-1.43.59L10.3 9.45l-7.72 7.72c-.78.78-.78 2.05 0 2.83L4 21.41c.39.39.9.59 1.41.59.51 0 1.02-.2 1.41-.59l7.78-7.78 2.81-2.81c.8-.78.8-2.07 0-2.86zM5.41 20L4 18.59l7.72-7.72 1.47 1.35L5.41 20z\"/>\n",
              "  </svg>\n",
              "      </button>\n",
              "      \n",
              "  <style>\n",
              "    .colab-df-container {\n",
              "      display:flex;\n",
              "      flex-wrap:wrap;\n",
              "      gap: 12px;\n",
              "    }\n",
              "\n",
              "    .colab-df-convert {\n",
              "      background-color: #E8F0FE;\n",
              "      border: none;\n",
              "      border-radius: 50%;\n",
              "      cursor: pointer;\n",
              "      display: none;\n",
              "      fill: #1967D2;\n",
              "      height: 32px;\n",
              "      padding: 0 0 0 0;\n",
              "      width: 32px;\n",
              "    }\n",
              "\n",
              "    .colab-df-convert:hover {\n",
              "      background-color: #E2EBFA;\n",
              "      box-shadow: 0px 1px 2px rgba(60, 64, 67, 0.3), 0px 1px 3px 1px rgba(60, 64, 67, 0.15);\n",
              "      fill: #174EA6;\n",
              "    }\n",
              "\n",
              "    [theme=dark] .colab-df-convert {\n",
              "      background-color: #3B4455;\n",
              "      fill: #D2E3FC;\n",
              "    }\n",
              "\n",
              "    [theme=dark] .colab-df-convert:hover {\n",
              "      background-color: #434B5C;\n",
              "      box-shadow: 0px 1px 3px 1px rgba(0, 0, 0, 0.15);\n",
              "      filter: drop-shadow(0px 1px 2px rgba(0, 0, 0, 0.3));\n",
              "      fill: #FFFFFF;\n",
              "    }\n",
              "  </style>\n",
              "\n",
              "      <script>\n",
              "        const buttonEl =\n",
              "          document.querySelector('#df-5d3bd895-3ee7-49f6-a54a-fb267dec9d5a button.colab-df-convert');\n",
              "        buttonEl.style.display =\n",
              "          google.colab.kernel.accessAllowed ? 'block' : 'none';\n",
              "\n",
              "        async function convertToInteractive(key) {\n",
              "          const element = document.querySelector('#df-5d3bd895-3ee7-49f6-a54a-fb267dec9d5a');\n",
              "          const dataTable =\n",
              "            await google.colab.kernel.invokeFunction('convertToInteractive',\n",
              "                                                     [key], {});\n",
              "          if (!dataTable) return;\n",
              "\n",
              "          const docLinkHtml = 'Like what you see? Visit the ' +\n",
              "            '<a target=\"_blank\" href=https://colab.research.google.com/notebooks/data_table.ipynb>data table notebook</a>'\n",
              "            + ' to learn more about interactive tables.';\n",
              "          element.innerHTML = '';\n",
              "          dataTable['output_type'] = 'display_data';\n",
              "          await google.colab.output.renderOutput(dataTable, element);\n",
              "          const docLink = document.createElement('div');\n",
              "          docLink.innerHTML = docLinkHtml;\n",
              "          element.appendChild(docLink);\n",
              "        }\n",
              "      </script>\n",
              "    </div>\n",
              "  </div>\n",
              "  "
            ],
            "text/plain": [
              "          W         X         Y         Z       new\n",
              "A -1.085631  0.997345  0.282978 -1.506295 -0.802652\n",
              "B -0.578600  1.651437 -2.426679 -0.428913 -3.005279\n",
              "C  1.265936 -0.866740 -0.678886 -0.094709  0.587050\n",
              "D  1.491390 -0.638902 -0.443982 -0.434351  1.047408\n",
              "E  2.205930  2.186786  1.004054  0.386186  3.209984"
            ]
          },
          "metadata": {},
          "execution_count": 33
        }
      ]
    },
    {
      "cell_type": "code",
      "source": [
        "columns=['Y','Z'] # here where you can add any columns you wanted to be printed\n",
        "df[columns] # here you feed df by the variable columns"
      ],
      "metadata": {
        "id": "7r9iGel-Hy6l"
      },
      "execution_count": null,
      "outputs": []
    },
    {
      "cell_type": "code",
      "source": [
        "#Filtering\n",
        "import numpy as np\n",
        "import pandas as pd\n",
        "from numpy.random import randn\n",
        "np.random.seed(123)\n",
        "\n",
        "df = pd.DataFrame(randn(5, 4), ['A', 'B', 'C', 'D', 'E',], ['W', 'X', 'Y', 'Z'])\n",
        "columns=['W','X','Y','Z']\n",
        "df['new'] = df['W'] + df['Y']\n",
        "df[df['Z']<0]"
      ],
      "metadata": {
        "colab": {
          "base_uri": "https://localhost:8080/",
          "height": 174
        },
        "id": "FurHuZW8UDsn",
        "outputId": "d6be33ac-b6d1-4fcb-be6f-8315b9ec076c"
      },
      "execution_count": null,
      "outputs": [
        {
          "output_type": "execute_result",
          "data": {
            "text/html": [
              "\n",
              "  <div id=\"df-89960abc-a7b8-4531-9307-161699c9d0cf\">\n",
              "    <div class=\"colab-df-container\">\n",
              "      <div>\n",
              "<style scoped>\n",
              "    .dataframe tbody tr th:only-of-type {\n",
              "        vertical-align: middle;\n",
              "    }\n",
              "\n",
              "    .dataframe tbody tr th {\n",
              "        vertical-align: top;\n",
              "    }\n",
              "\n",
              "    .dataframe thead th {\n",
              "        text-align: right;\n",
              "    }\n",
              "</style>\n",
              "<table border=\"1\" class=\"dataframe\">\n",
              "  <thead>\n",
              "    <tr style=\"text-align: right;\">\n",
              "      <th></th>\n",
              "      <th>W</th>\n",
              "      <th>X</th>\n",
              "      <th>Y</th>\n",
              "      <th>Z</th>\n",
              "      <th>new</th>\n",
              "    </tr>\n",
              "  </thead>\n",
              "  <tbody>\n",
              "    <tr>\n",
              "      <th>A</th>\n",
              "      <td>-1.085631</td>\n",
              "      <td>0.997345</td>\n",
              "      <td>0.282978</td>\n",
              "      <td>-1.506295</td>\n",
              "      <td>-0.802652</td>\n",
              "    </tr>\n",
              "    <tr>\n",
              "      <th>B</th>\n",
              "      <td>-0.578600</td>\n",
              "      <td>1.651437</td>\n",
              "      <td>-2.426679</td>\n",
              "      <td>-0.428913</td>\n",
              "      <td>-3.005279</td>\n",
              "    </tr>\n",
              "    <tr>\n",
              "      <th>C</th>\n",
              "      <td>1.265936</td>\n",
              "      <td>-0.866740</td>\n",
              "      <td>-0.678886</td>\n",
              "      <td>-0.094709</td>\n",
              "      <td>0.587050</td>\n",
              "    </tr>\n",
              "    <tr>\n",
              "      <th>D</th>\n",
              "      <td>1.491390</td>\n",
              "      <td>-0.638902</td>\n",
              "      <td>-0.443982</td>\n",
              "      <td>-0.434351</td>\n",
              "      <td>1.047408</td>\n",
              "    </tr>\n",
              "  </tbody>\n",
              "</table>\n",
              "</div>\n",
              "      <button class=\"colab-df-convert\" onclick=\"convertToInteractive('df-89960abc-a7b8-4531-9307-161699c9d0cf')\"\n",
              "              title=\"Convert this dataframe to an interactive table.\"\n",
              "              style=\"display:none;\">\n",
              "        \n",
              "  <svg xmlns=\"http://www.w3.org/2000/svg\" height=\"24px\"viewBox=\"0 0 24 24\"\n",
              "       width=\"24px\">\n",
              "    <path d=\"M0 0h24v24H0V0z\" fill=\"none\"/>\n",
              "    <path d=\"M18.56 5.44l.94 2.06.94-2.06 2.06-.94-2.06-.94-.94-2.06-.94 2.06-2.06.94zm-11 1L8.5 8.5l.94-2.06 2.06-.94-2.06-.94L8.5 2.5l-.94 2.06-2.06.94zm10 10l.94 2.06.94-2.06 2.06-.94-2.06-.94-.94-2.06-.94 2.06-2.06.94z\"/><path d=\"M17.41 7.96l-1.37-1.37c-.4-.4-.92-.59-1.43-.59-.52 0-1.04.2-1.43.59L10.3 9.45l-7.72 7.72c-.78.78-.78 2.05 0 2.83L4 21.41c.39.39.9.59 1.41.59.51 0 1.02-.2 1.41-.59l7.78-7.78 2.81-2.81c.8-.78.8-2.07 0-2.86zM5.41 20L4 18.59l7.72-7.72 1.47 1.35L5.41 20z\"/>\n",
              "  </svg>\n",
              "      </button>\n",
              "      \n",
              "  <style>\n",
              "    .colab-df-container {\n",
              "      display:flex;\n",
              "      flex-wrap:wrap;\n",
              "      gap: 12px;\n",
              "    }\n",
              "\n",
              "    .colab-df-convert {\n",
              "      background-color: #E8F0FE;\n",
              "      border: none;\n",
              "      border-radius: 50%;\n",
              "      cursor: pointer;\n",
              "      display: none;\n",
              "      fill: #1967D2;\n",
              "      height: 32px;\n",
              "      padding: 0 0 0 0;\n",
              "      width: 32px;\n",
              "    }\n",
              "\n",
              "    .colab-df-convert:hover {\n",
              "      background-color: #E2EBFA;\n",
              "      box-shadow: 0px 1px 2px rgba(60, 64, 67, 0.3), 0px 1px 3px 1px rgba(60, 64, 67, 0.15);\n",
              "      fill: #174EA6;\n",
              "    }\n",
              "\n",
              "    [theme=dark] .colab-df-convert {\n",
              "      background-color: #3B4455;\n",
              "      fill: #D2E3FC;\n",
              "    }\n",
              "\n",
              "    [theme=dark] .colab-df-convert:hover {\n",
              "      background-color: #434B5C;\n",
              "      box-shadow: 0px 1px 3px 1px rgba(0, 0, 0, 0.15);\n",
              "      filter: drop-shadow(0px 1px 2px rgba(0, 0, 0, 0.3));\n",
              "      fill: #FFFFFF;\n",
              "    }\n",
              "  </style>\n",
              "\n",
              "      <script>\n",
              "        const buttonEl =\n",
              "          document.querySelector('#df-89960abc-a7b8-4531-9307-161699c9d0cf button.colab-df-convert');\n",
              "        buttonEl.style.display =\n",
              "          google.colab.kernel.accessAllowed ? 'block' : 'none';\n",
              "\n",
              "        async function convertToInteractive(key) {\n",
              "          const element = document.querySelector('#df-89960abc-a7b8-4531-9307-161699c9d0cf');\n",
              "          const dataTable =\n",
              "            await google.colab.kernel.invokeFunction('convertToInteractive',\n",
              "                                                     [key], {});\n",
              "          if (!dataTable) return;\n",
              "\n",
              "          const docLinkHtml = 'Like what you see? Visit the ' +\n",
              "            '<a target=\"_blank\" href=https://colab.research.google.com/notebooks/data_table.ipynb>data table notebook</a>'\n",
              "            + ' to learn more about interactive tables.';\n",
              "          element.innerHTML = '';\n",
              "          dataTable['output_type'] = 'display_data';\n",
              "          await google.colab.output.renderOutput(dataTable, element);\n",
              "          const docLink = document.createElement('div');\n",
              "          docLink.innerHTML = docLinkHtml;\n",
              "          element.appendChild(docLink);\n",
              "        }\n",
              "      </script>\n",
              "    </div>\n",
              "  </div>\n",
              "  "
            ],
            "text/plain": [
              "          W         X         Y         Z       new\n",
              "A -1.085631  0.997345  0.282978 -1.506295 -0.802652\n",
              "B -0.578600  1.651437 -2.426679 -0.428913 -3.005279\n",
              "C  1.265936 -0.866740 -0.678886 -0.094709  0.587050\n",
              "D  1.491390 -0.638902 -0.443982 -0.434351  1.047408"
            ]
          },
          "metadata": {},
          "execution_count": 34
        }
      ]
    },
    {
      "cell_type": "code",
      "source": [
        "import pandas as pd\n",
        "import numpy as np"
      ],
      "metadata": {
        "id": "sJc91p9eXqhH"
      },
      "execution_count": null,
      "outputs": []
    },
    {
      "cell_type": "markdown",
      "source": [
        "##Big Data"
      ],
      "metadata": {
        "id": "gQyAXdWnzSGR"
      }
    },
    {
      "cell_type": "code",
      "source": [
        "faithful_df = pd.read_csv('https://raw.githubusercontent.com/CunyLaguardiaDataAnalytics/datasets/master/faithful.csv', index_col=0)"
      ],
      "metadata": {
        "id": "0KxWka4bV9XB"
      },
      "execution_count": null,
      "outputs": []
    },
    {
      "cell_type": "code",
      "source": [
        "type(faithful_df)"
      ],
      "metadata": {
        "colab": {
          "base_uri": "https://localhost:8080/"
        },
        "id": "uRqOxFGQXz9w",
        "outputId": "50732e07-e68c-4114-ac46-11f1d138b8ac"
      },
      "execution_count": null,
      "outputs": [
        {
          "output_type": "execute_result",
          "data": {
            "text/plain": [
              "pandas.core.frame.DataFrame"
            ]
          },
          "metadata": {},
          "execution_count": 5
        }
      ]
    },
    {
      "cell_type": "code",
      "source": [
        "faithful_df.shape"
      ],
      "metadata": {
        "colab": {
          "base_uri": "https://localhost:8080/"
        },
        "id": "ajdj4AzZX5_n",
        "outputId": "b01a2a74-8261-49e7-ab5c-729f70f04b74"
      },
      "execution_count": null,
      "outputs": [
        {
          "output_type": "execute_result",
          "data": {
            "text/plain": [
              "(272, 2)"
            ]
          },
          "metadata": {},
          "execution_count": 7
        }
      ]
    },
    {
      "cell_type": "code",
      "source": [
        "print(faithful_df)"
      ],
      "metadata": {
        "colab": {
          "base_uri": "https://localhost:8080/"
        },
        "id": "jbLBb81OX_VI",
        "outputId": "02e87cef-6b96-42f6-b400-790b1fd69d8d"
      },
      "execution_count": null,
      "outputs": [
        {
          "output_type": "stream",
          "name": "stdout",
          "text": [
            "     eruptions  waiting\n",
            "1        3.600       79\n",
            "2        1.800       54\n",
            "3        3.333       74\n",
            "4        2.283       62\n",
            "5        4.533       85\n",
            "..         ...      ...\n",
            "268      4.117       81\n",
            "269      2.150       46\n",
            "270      4.417       90\n",
            "271      1.817       46\n",
            "272      4.467       74\n",
            "\n",
            "[272 rows x 2 columns]\n"
          ]
        }
      ]
    },
    {
      "cell_type": "code",
      "source": [
        "faithful_df.count()"
      ],
      "metadata": {
        "colab": {
          "base_uri": "https://localhost:8080/"
        },
        "id": "pfsz7h13YZkH",
        "outputId": "2b6788af-f2f4-4263-a589-bea55ec27ae2"
      },
      "execution_count": null,
      "outputs": [
        {
          "output_type": "execute_result",
          "data": {
            "text/plain": [
              "eruptions    272\n",
              "waiting      272\n",
              "dtype: int64"
            ]
          },
          "metadata": {},
          "execution_count": 9
        }
      ]
    },
    {
      "cell_type": "code",
      "source": [
        "faithful_df.describe()"
      ],
      "metadata": {
        "colab": {
          "base_uri": "https://localhost:8080/",
          "height": 300
        },
        "id": "hpFNdpUyYd91",
        "outputId": "7ab172ae-d478-45ff-be83-89ef103f1602"
      },
      "execution_count": null,
      "outputs": [
        {
          "output_type": "execute_result",
          "data": {
            "text/html": [
              "\n",
              "  <div id=\"df-b8c7689e-04b3-47f7-ae12-47eaed231054\">\n",
              "    <div class=\"colab-df-container\">\n",
              "      <div>\n",
              "<style scoped>\n",
              "    .dataframe tbody tr th:only-of-type {\n",
              "        vertical-align: middle;\n",
              "    }\n",
              "\n",
              "    .dataframe tbody tr th {\n",
              "        vertical-align: top;\n",
              "    }\n",
              "\n",
              "    .dataframe thead th {\n",
              "        text-align: right;\n",
              "    }\n",
              "</style>\n",
              "<table border=\"1\" class=\"dataframe\">\n",
              "  <thead>\n",
              "    <tr style=\"text-align: right;\">\n",
              "      <th></th>\n",
              "      <th>eruptions</th>\n",
              "      <th>waiting</th>\n",
              "    </tr>\n",
              "  </thead>\n",
              "  <tbody>\n",
              "    <tr>\n",
              "      <th>count</th>\n",
              "      <td>272.000000</td>\n",
              "      <td>272.000000</td>\n",
              "    </tr>\n",
              "    <tr>\n",
              "      <th>mean</th>\n",
              "      <td>3.487783</td>\n",
              "      <td>70.897059</td>\n",
              "    </tr>\n",
              "    <tr>\n",
              "      <th>std</th>\n",
              "      <td>1.141371</td>\n",
              "      <td>13.594974</td>\n",
              "    </tr>\n",
              "    <tr>\n",
              "      <th>min</th>\n",
              "      <td>1.600000</td>\n",
              "      <td>43.000000</td>\n",
              "    </tr>\n",
              "    <tr>\n",
              "      <th>25%</th>\n",
              "      <td>2.162750</td>\n",
              "      <td>58.000000</td>\n",
              "    </tr>\n",
              "    <tr>\n",
              "      <th>50%</th>\n",
              "      <td>4.000000</td>\n",
              "      <td>76.000000</td>\n",
              "    </tr>\n",
              "    <tr>\n",
              "      <th>75%</th>\n",
              "      <td>4.454250</td>\n",
              "      <td>82.000000</td>\n",
              "    </tr>\n",
              "    <tr>\n",
              "      <th>max</th>\n",
              "      <td>5.100000</td>\n",
              "      <td>96.000000</td>\n",
              "    </tr>\n",
              "  </tbody>\n",
              "</table>\n",
              "</div>\n",
              "      <button class=\"colab-df-convert\" onclick=\"convertToInteractive('df-b8c7689e-04b3-47f7-ae12-47eaed231054')\"\n",
              "              title=\"Convert this dataframe to an interactive table.\"\n",
              "              style=\"display:none;\">\n",
              "        \n",
              "  <svg xmlns=\"http://www.w3.org/2000/svg\" height=\"24px\"viewBox=\"0 0 24 24\"\n",
              "       width=\"24px\">\n",
              "    <path d=\"M0 0h24v24H0V0z\" fill=\"none\"/>\n",
              "    <path d=\"M18.56 5.44l.94 2.06.94-2.06 2.06-.94-2.06-.94-.94-2.06-.94 2.06-2.06.94zm-11 1L8.5 8.5l.94-2.06 2.06-.94-2.06-.94L8.5 2.5l-.94 2.06-2.06.94zm10 10l.94 2.06.94-2.06 2.06-.94-2.06-.94-.94-2.06-.94 2.06-2.06.94z\"/><path d=\"M17.41 7.96l-1.37-1.37c-.4-.4-.92-.59-1.43-.59-.52 0-1.04.2-1.43.59L10.3 9.45l-7.72 7.72c-.78.78-.78 2.05 0 2.83L4 21.41c.39.39.9.59 1.41.59.51 0 1.02-.2 1.41-.59l7.78-7.78 2.81-2.81c.8-.78.8-2.07 0-2.86zM5.41 20L4 18.59l7.72-7.72 1.47 1.35L5.41 20z\"/>\n",
              "  </svg>\n",
              "      </button>\n",
              "      \n",
              "  <style>\n",
              "    .colab-df-container {\n",
              "      display:flex;\n",
              "      flex-wrap:wrap;\n",
              "      gap: 12px;\n",
              "    }\n",
              "\n",
              "    .colab-df-convert {\n",
              "      background-color: #E8F0FE;\n",
              "      border: none;\n",
              "      border-radius: 50%;\n",
              "      cursor: pointer;\n",
              "      display: none;\n",
              "      fill: #1967D2;\n",
              "      height: 32px;\n",
              "      padding: 0 0 0 0;\n",
              "      width: 32px;\n",
              "    }\n",
              "\n",
              "    .colab-df-convert:hover {\n",
              "      background-color: #E2EBFA;\n",
              "      box-shadow: 0px 1px 2px rgba(60, 64, 67, 0.3), 0px 1px 3px 1px rgba(60, 64, 67, 0.15);\n",
              "      fill: #174EA6;\n",
              "    }\n",
              "\n",
              "    [theme=dark] .colab-df-convert {\n",
              "      background-color: #3B4455;\n",
              "      fill: #D2E3FC;\n",
              "    }\n",
              "\n",
              "    [theme=dark] .colab-df-convert:hover {\n",
              "      background-color: #434B5C;\n",
              "      box-shadow: 0px 1px 3px 1px rgba(0, 0, 0, 0.15);\n",
              "      filter: drop-shadow(0px 1px 2px rgba(0, 0, 0, 0.3));\n",
              "      fill: #FFFFFF;\n",
              "    }\n",
              "  </style>\n",
              "\n",
              "      <script>\n",
              "        const buttonEl =\n",
              "          document.querySelector('#df-b8c7689e-04b3-47f7-ae12-47eaed231054 button.colab-df-convert');\n",
              "        buttonEl.style.display =\n",
              "          google.colab.kernel.accessAllowed ? 'block' : 'none';\n",
              "\n",
              "        async function convertToInteractive(key) {\n",
              "          const element = document.querySelector('#df-b8c7689e-04b3-47f7-ae12-47eaed231054');\n",
              "          const dataTable =\n",
              "            await google.colab.kernel.invokeFunction('convertToInteractive',\n",
              "                                                     [key], {});\n",
              "          if (!dataTable) return;\n",
              "\n",
              "          const docLinkHtml = 'Like what you see? Visit the ' +\n",
              "            '<a target=\"_blank\" href=https://colab.research.google.com/notebooks/data_table.ipynb>data table notebook</a>'\n",
              "            + ' to learn more about interactive tables.';\n",
              "          element.innerHTML = '';\n",
              "          dataTable['output_type'] = 'display_data';\n",
              "          await google.colab.output.renderOutput(dataTable, element);\n",
              "          const docLink = document.createElement('div');\n",
              "          docLink.innerHTML = docLinkHtml;\n",
              "          element.appendChild(docLink);\n",
              "        }\n",
              "      </script>\n",
              "    </div>\n",
              "  </div>\n",
              "  "
            ],
            "text/plain": [
              "        eruptions     waiting\n",
              "count  272.000000  272.000000\n",
              "mean     3.487783   70.897059\n",
              "std      1.141371   13.594974\n",
              "min      1.600000   43.000000\n",
              "25%      2.162750   58.000000\n",
              "50%      4.000000   76.000000\n",
              "75%      4.454250   82.000000\n",
              "max      5.100000   96.000000"
            ]
          },
          "metadata": {},
          "execution_count": 6
        }
      ]
    },
    {
      "cell_type": "code",
      "source": [
        "faithful_df.min()"
      ],
      "metadata": {
        "colab": {
          "base_uri": "https://localhost:8080/"
        },
        "id": "W7HPkCxtYmD0",
        "outputId": "c0a797bd-150e-428f-af9c-e31462058eff"
      },
      "execution_count": null,
      "outputs": [
        {
          "output_type": "execute_result",
          "data": {
            "text/plain": [
              "eruptions     1.6\n",
              "waiting      43.0\n",
              "dtype: float64"
            ]
          },
          "metadata": {},
          "execution_count": 14
        }
      ]
    },
    {
      "cell_type": "code",
      "source": [
        "faithful_df.max()"
      ],
      "metadata": {
        "colab": {
          "base_uri": "https://localhost:8080/"
        },
        "id": "BPRaOKCBYyDF",
        "outputId": "d606fb3c-fd19-4f2b-b688-874b8d4fe4be"
      },
      "execution_count": null,
      "outputs": [
        {
          "output_type": "execute_result",
          "data": {
            "text/plain": [
              "eruptions     5.1\n",
              "waiting      96.0\n",
              "dtype: float64"
            ]
          },
          "metadata": {},
          "execution_count": 15
        }
      ]
    },
    {
      "cell_type": "code",
      "source": [
        "faithful_df.mean()"
      ],
      "metadata": {
        "colab": {
          "base_uri": "https://localhost:8080/"
        },
        "id": "G50DSVSmY0Ie",
        "outputId": "32aba263-307e-4399-a240-de77eee407c7"
      },
      "execution_count": null,
      "outputs": [
        {
          "output_type": "execute_result",
          "data": {
            "text/plain": [
              "eruptions     3.487783\n",
              "waiting      70.897059\n",
              "dtype: float64"
            ]
          },
          "metadata": {},
          "execution_count": 16
        }
      ]
    },
    {
      "cell_type": "code",
      "source": [
        "pd.pivot_table(faithful_df, index = ['eruptions'])"
      ],
      "metadata": {
        "colab": {
          "base_uri": "https://localhost:8080/",
          "height": 455
        },
        "id": "71XSfTztY72A",
        "outputId": "034ec292-c7b2-4f69-f975-620b6bfb7aab"
      },
      "execution_count": null,
      "outputs": [
        {
          "output_type": "execute_result",
          "data": {
            "text/html": [
              "\n",
              "  <div id=\"df-37035a31-fd07-4121-b8b3-2f8fc1a3cf88\">\n",
              "    <div class=\"colab-df-container\">\n",
              "      <div>\n",
              "<style scoped>\n",
              "    .dataframe tbody tr th:only-of-type {\n",
              "        vertical-align: middle;\n",
              "    }\n",
              "\n",
              "    .dataframe tbody tr th {\n",
              "        vertical-align: top;\n",
              "    }\n",
              "\n",
              "    .dataframe thead th {\n",
              "        text-align: right;\n",
              "    }\n",
              "</style>\n",
              "<table border=\"1\" class=\"dataframe\">\n",
              "  <thead>\n",
              "    <tr style=\"text-align: right;\">\n",
              "      <th></th>\n",
              "      <th>waiting</th>\n",
              "    </tr>\n",
              "    <tr>\n",
              "      <th>eruptions</th>\n",
              "      <th></th>\n",
              "    </tr>\n",
              "  </thead>\n",
              "  <tbody>\n",
              "    <tr>\n",
              "      <th>1.600</th>\n",
              "      <td>52.000000</td>\n",
              "    </tr>\n",
              "    <tr>\n",
              "      <th>1.667</th>\n",
              "      <td>64.000000</td>\n",
              "    </tr>\n",
              "    <tr>\n",
              "      <th>1.700</th>\n",
              "      <td>59.000000</td>\n",
              "    </tr>\n",
              "    <tr>\n",
              "      <th>1.733</th>\n",
              "      <td>54.000000</td>\n",
              "    </tr>\n",
              "    <tr>\n",
              "      <th>1.750</th>\n",
              "      <td>52.666667</td>\n",
              "    </tr>\n",
              "    <tr>\n",
              "      <th>...</th>\n",
              "      <td>...</td>\n",
              "    </tr>\n",
              "    <tr>\n",
              "      <th>4.933</th>\n",
              "      <td>86.666667</td>\n",
              "    </tr>\n",
              "    <tr>\n",
              "      <th>5.000</th>\n",
              "      <td>88.000000</td>\n",
              "    </tr>\n",
              "    <tr>\n",
              "      <th>5.033</th>\n",
              "      <td>77.000000</td>\n",
              "    </tr>\n",
              "    <tr>\n",
              "      <th>5.067</th>\n",
              "      <td>76.000000</td>\n",
              "    </tr>\n",
              "    <tr>\n",
              "      <th>5.100</th>\n",
              "      <td>96.000000</td>\n",
              "    </tr>\n",
              "  </tbody>\n",
              "</table>\n",
              "<p>126 rows × 1 columns</p>\n",
              "</div>\n",
              "      <button class=\"colab-df-convert\" onclick=\"convertToInteractive('df-37035a31-fd07-4121-b8b3-2f8fc1a3cf88')\"\n",
              "              title=\"Convert this dataframe to an interactive table.\"\n",
              "              style=\"display:none;\">\n",
              "        \n",
              "  <svg xmlns=\"http://www.w3.org/2000/svg\" height=\"24px\"viewBox=\"0 0 24 24\"\n",
              "       width=\"24px\">\n",
              "    <path d=\"M0 0h24v24H0V0z\" fill=\"none\"/>\n",
              "    <path d=\"M18.56 5.44l.94 2.06.94-2.06 2.06-.94-2.06-.94-.94-2.06-.94 2.06-2.06.94zm-11 1L8.5 8.5l.94-2.06 2.06-.94-2.06-.94L8.5 2.5l-.94 2.06-2.06.94zm10 10l.94 2.06.94-2.06 2.06-.94-2.06-.94-.94-2.06-.94 2.06-2.06.94z\"/><path d=\"M17.41 7.96l-1.37-1.37c-.4-.4-.92-.59-1.43-.59-.52 0-1.04.2-1.43.59L10.3 9.45l-7.72 7.72c-.78.78-.78 2.05 0 2.83L4 21.41c.39.39.9.59 1.41.59.51 0 1.02-.2 1.41-.59l7.78-7.78 2.81-2.81c.8-.78.8-2.07 0-2.86zM5.41 20L4 18.59l7.72-7.72 1.47 1.35L5.41 20z\"/>\n",
              "  </svg>\n",
              "      </button>\n",
              "      \n",
              "  <style>\n",
              "    .colab-df-container {\n",
              "      display:flex;\n",
              "      flex-wrap:wrap;\n",
              "      gap: 12px;\n",
              "    }\n",
              "\n",
              "    .colab-df-convert {\n",
              "      background-color: #E8F0FE;\n",
              "      border: none;\n",
              "      border-radius: 50%;\n",
              "      cursor: pointer;\n",
              "      display: none;\n",
              "      fill: #1967D2;\n",
              "      height: 32px;\n",
              "      padding: 0 0 0 0;\n",
              "      width: 32px;\n",
              "    }\n",
              "\n",
              "    .colab-df-convert:hover {\n",
              "      background-color: #E2EBFA;\n",
              "      box-shadow: 0px 1px 2px rgba(60, 64, 67, 0.3), 0px 1px 3px 1px rgba(60, 64, 67, 0.15);\n",
              "      fill: #174EA6;\n",
              "    }\n",
              "\n",
              "    [theme=dark] .colab-df-convert {\n",
              "      background-color: #3B4455;\n",
              "      fill: #D2E3FC;\n",
              "    }\n",
              "\n",
              "    [theme=dark] .colab-df-convert:hover {\n",
              "      background-color: #434B5C;\n",
              "      box-shadow: 0px 1px 3px 1px rgba(0, 0, 0, 0.15);\n",
              "      filter: drop-shadow(0px 1px 2px rgba(0, 0, 0, 0.3));\n",
              "      fill: #FFFFFF;\n",
              "    }\n",
              "  </style>\n",
              "\n",
              "      <script>\n",
              "        const buttonEl =\n",
              "          document.querySelector('#df-37035a31-fd07-4121-b8b3-2f8fc1a3cf88 button.colab-df-convert');\n",
              "        buttonEl.style.display =\n",
              "          google.colab.kernel.accessAllowed ? 'block' : 'none';\n",
              "\n",
              "        async function convertToInteractive(key) {\n",
              "          const element = document.querySelector('#df-37035a31-fd07-4121-b8b3-2f8fc1a3cf88');\n",
              "          const dataTable =\n",
              "            await google.colab.kernel.invokeFunction('convertToInteractive',\n",
              "                                                     [key], {});\n",
              "          if (!dataTable) return;\n",
              "\n",
              "          const docLinkHtml = 'Like what you see? Visit the ' +\n",
              "            '<a target=\"_blank\" href=https://colab.research.google.com/notebooks/data_table.ipynb>data table notebook</a>'\n",
              "            + ' to learn more about interactive tables.';\n",
              "          element.innerHTML = '';\n",
              "          dataTable['output_type'] = 'display_data';\n",
              "          await google.colab.output.renderOutput(dataTable, element);\n",
              "          const docLink = document.createElement('div');\n",
              "          docLink.innerHTML = docLinkHtml;\n",
              "          element.appendChild(docLink);\n",
              "        }\n",
              "      </script>\n",
              "    </div>\n",
              "  </div>\n",
              "  "
            ],
            "text/plain": [
              "             waiting\n",
              "eruptions           \n",
              "1.600      52.000000\n",
              "1.667      64.000000\n",
              "1.700      59.000000\n",
              "1.733      54.000000\n",
              "1.750      52.666667\n",
              "...              ...\n",
              "4.933      86.666667\n",
              "5.000      88.000000\n",
              "5.033      77.000000\n",
              "5.067      76.000000\n",
              "5.100      96.000000\n",
              "\n",
              "[126 rows x 1 columns]"
            ]
          },
          "metadata": {},
          "execution_count": 17
        }
      ]
    },
    {
      "cell_type": "code",
      "source": [
        ""
      ],
      "metadata": {
        "id": "HALeb7yC6d31"
      },
      "execution_count": null,
      "outputs": []
    },
    {
      "cell_type": "code",
      "source": [
        "#Raw Data\n",
        "\"\",\"eruptions\",\"waiting\"\n",
        "\"1\",3.6,79\n",
        "\"2\",1.8,54\n",
        "\"3\",3.333,74\n",
        "\"4\",2.283,62\n",
        "\"5\",4.533,85\n",
        "\"6\",2.883,55\n",
        "\"7\",4.7,88\n",
        "\"8\",3.6,85\n",
        "\"9\",1.95,51\n",
        "\"10\",4.35,85\n",
        "\"11\",1.833,54\n",
        "\"12\",3.917,84\n",
        "\"13\",4.2,78\n",
        "\"14\",1.75,47\n",
        "\"15\",4.7,83\n",
        "\"16\",2.167,52\n",
        "\"17\",1.75,62\n",
        "\"18\",4.8,84\n",
        "\"19\",1.6,52\n",
        "\"20\",4.25,79\n",
        "\"21\",1.8,51\n",
        "\"22\",1.75,47\n",
        "\"23\",3.45,78\n",
        "\"24\",3.067,69\n",
        "\"25\",4.533,74\n",
        "\"26\",3.6,83\n",
        "\"27\",1.967,55\n",
        "\"28\",4.083,76\n",
        "\"29\",3.85,78\n",
        "\"30\",4.433,79\n",
        "\"31\",4.3,73\n",
        "\"32\",4.467,77\n",
        "\"33\",3.367,66\n",
        "\"34\",4.033,80\n",
        "\"35\",3.833,74\n",
        "\"36\",2.017,52\n",
        "\"37\",1.867,48\n",
        "\"38\",4.833,80\n",
        "\"39\",1.833,59\n",
        "\"40\",4.783,90\n",
        "\"41\",4.35,80\n",
        "\"42\",1.883,58\n",
        "\"43\",4.567,84\n",
        "\"44\",1.75,58\n",
        "\"45\",4.533,73\n",
        "\"46\",3.317,83\n",
        "\"47\",3.833,64\n",
        "\"48\",2.1,53\n",
        "\"49\",4.633,82\n",
        "\"50\",2,59\n",
        "\"51\",4.8,75\n",
        "\"52\",4.716,90\n",
        "\"53\",1.833,54\n",
        "\"54\",4.833,80\n",
        "\"55\",1.733,54\n",
        "\"56\",4.883,83\n",
        "\"57\",3.717,71\n",
        "\"58\",1.667,64\n",
        "\"59\",4.567,77\n",
        "\"60\",4.317,81\n",
        "\"61\",2.233,59\n",
        "\"62\",4.5,84\n",
        "\"63\",1.75,48\n",
        "\"64\",4.8,82\n",
        "\"65\",1.817,60\n",
        "\"66\",4.4,92\n",
        "\"67\",4.167,78\n",
        "\"68\",4.7,78\n",
        "\"69\",2.067,65\n",
        "\"70\",4.7,73\n",
        "\"71\",4.033,82\n",
        "\"72\",1.967,56\n",
        "\"73\",4.5,79\n",
        "\"74\",4,71\n",
        "\"75\",1.983,62\n",
        "\"76\",5.067,76\n",
        "\"77\",2.017,60\n",
        "\"78\",4.567,78\n",
        "\"79\",3.883,76\n",
        "\"80\",3.6,83\n",
        "\"81\",4.133,75\n",
        "\"82\",4.333,82\n",
        "\"83\",4.1,70\n",
        "\"84\",2.633,65\n",
        "\"85\",4.067,73\n",
        "\"86\",4.933,88\n",
        "\"87\",3.95,76\n",
        "\"88\",4.517,80\n",
        "\"89\",2.167,48\n",
        "\"90\",4,86\n",
        "\"91\",2.2,60\n",
        "\"92\",4.333,90\n",
        "\"93\",1.867,50\n",
        "\"94\",4.817,78\n",
        "\"95\",1.833,63\n",
        "\"96\",4.3,72\n",
        "\"97\",4.667,84\n",
        "\"98\",3.75,75\n",
        "\"99\",1.867,51\n",
        "\"100\",4.9,82\n",
        "\"101\",2.483,62\n",
        "\"102\",4.367,88\n",
        "\"103\",2.1,49\n",
        "\"104\",4.5,83\n",
        "\"105\",4.05,81\n",
        "\"106\",1.867,47\n",
        "\"107\",4.7,84\n",
        "\"108\",1.783,52\n",
        "\"109\",4.85,86\n",
        "\"110\",3.683,81\n",
        "\"111\",4.733,75\n",
        "\"112\",2.3,59\n",
        "\"113\",4.9,89\n",
        "\"114\",4.417,79\n",
        "\"115\",1.7,59\n",
        "\"116\",4.633,81\n",
        "\"117\",2.317,50\n",
        "\"118\",4.6,85\n",
        "\"119\",1.817,59\n",
        "\"120\",4.417,87\n",
        "\"121\",2.617,53\n",
        "\"122\",4.067,69\n",
        "\"123\",4.25,77\n",
        "\"124\",1.967,56\n",
        "\"125\",4.6,88\n",
        "\"126\",3.767,81\n",
        "\"127\",1.917,45\n",
        "\"128\",4.5,82\n",
        "\"129\",2.267,55\n",
        "\"130\",4.65,90\n",
        "\"131\",1.867,45\n",
        "\"132\",4.167,83\n",
        "\"133\",2.8,56\n",
        "\"134\",4.333,89\n",
        "\"135\",1.833,46\n",
        "\"136\",4.383,82\n",
        "\"137\",1.883,51\n",
        "\"138\",4.933,86\n",
        "\"139\",2.033,53\n",
        "\"140\",3.733,79\n",
        "\"141\",4.233,81\n",
        "\"142\",2.233,60\n",
        "\"143\",4.533,82\n",
        "\"144\",4.817,77\n",
        "\"145\",4.333,76\n",
        "\"146\",1.983,59\n",
        "\"147\",4.633,80\n",
        "\"148\",2.017,49\n",
        "\"149\",5.1,96\n",
        "\"150\",1.8,53\n",
        "\"151\",5.033,77\n",
        "\"152\",4,77\n",
        "\"153\",2.4,65\n",
        "\"154\",4.6,81\n",
        "\"155\",3.567,71\n",
        "\"156\",4,70\n",
        "\"157\",4.5,81\n",
        "\"158\",4.083,93\n",
        "\"159\",1.8,53\n",
        "\"160\",3.967,89\n",
        "\"161\",2.2,45\n",
        "\"162\",4.15,86\n",
        "\"163\",2,58\n",
        "\"164\",3.833,78\n",
        "\"165\",3.5,66\n",
        "\"166\",4.583,76\n",
        "\"167\",2.367,63\n",
        "\"168\",5,88\n",
        "\"169\",1.933,52\n",
        "\"170\",4.617,93\n",
        "\"171\",1.917,49\n",
        "\"172\",2.083,57\n",
        "\"173\",4.583,77\n",
        "\"174\",3.333,68\n",
        "\"175\",4.167,81\n",
        "\"176\",4.333,81\n",
        "\"177\",4.5,73\n",
        "\"178\",2.417,50\n",
        "\"179\",4,85\n",
        "\"180\",4.167,74\n",
        "\"181\",1.883,55\n",
        "\"182\",4.583,77\n",
        "\"183\",4.25,83\n",
        "\"184\",3.767,83\n",
        "\"185\",2.033,51\n",
        "\"186\",4.433,78\n",
        "\"187\",4.083,84\n",
        "\"188\",1.833,46\n",
        "\"189\",4.417,83\n",
        "\"190\",2.183,55\n",
        "\"191\",4.8,81\n",
        "\"192\",1.833,57\n",
        "\"193\",4.8,76\n",
        "\"194\",4.1,84\n",
        "\"195\",3.966,77\n",
        "\"196\",4.233,81\n",
        "\"197\",3.5,87\n",
        "\"198\",4.366,77\n",
        "\"199\",2.25,51\n",
        "\"200\",4.667,78\n",
        "\"201\",2.1,60\n",
        "\"202\",4.35,82\n",
        "\"203\",4.133,91\n",
        "\"204\",1.867,53\n",
        "\"205\",4.6,78\n",
        "\"206\",1.783,46\n",
        "\"207\",4.367,77\n",
        "\"208\",3.85,84\n",
        "\"209\",1.933,49\n",
        "\"210\",4.5,83\n",
        "\"211\",2.383,71\n",
        "\"212\",4.7,80\n",
        "\"213\",1.867,49\n",
        "\"214\",3.833,75\n",
        "\"215\",3.417,64\n",
        "\"216\",4.233,76\n",
        "\"217\",2.4,53\n",
        "\"218\",4.8,94\n",
        "\"219\",2,55\n",
        "\"220\",4.15,76\n",
        "\"221\",1.867,50\n",
        "\"222\",4.267,82\n",
        "\"223\",1.75,54\n",
        "\"224\",4.483,75\n",
        "\"225\",4,78\n",
        "\"226\",4.117,79\n",
        "\"227\",4.083,78\n",
        "\"228\",4.267,78\n",
        "\"229\",3.917,70\n",
        "\"230\",4.55,79\n",
        "\"231\",4.083,70\n",
        "\"232\",2.417,54\n",
        "\"233\",4.183,86\n",
        "\"234\",2.217,50\n",
        "\"235\",4.45,90\n",
        "\"236\",1.883,54\n",
        "\"237\",1.85,54\n",
        "\"238\",4.283,77\n",
        "\"239\",3.95,79\n",
        "\"240\",2.333,64\n",
        "\"241\",4.15,75\n",
        "\"242\",2.35,47\n",
        "\"243\",4.933,86\n",
        "\"244\",2.9,63\n",
        "\"245\",4.583,85\n",
        "\"246\",3.833,82\n",
        "\"247\",2.083,57\n",
        "\"248\",4.367,82\n",
        "\"249\",2.133,67\n",
        "\"250\",4.35,74\n",
        "\"251\",2.2,54\n",
        "\"252\",4.45,83\n",
        "\"253\",3.567,73\n",
        "\"254\",4.5,73\n",
        "\"255\",4.15,88\n",
        "\"256\",3.817,80\n",
        "\"257\",3.917,71\n",
        "\"258\",4.45,83\n",
        "\"259\",2,56\n",
        "\"260\",4.283,79\n",
        "\"261\",4.767,78\n",
        "\"262\",4.533,84\n",
        "\"263\",1.85,58\n",
        "\"264\",4.25,83\n",
        "\"265\",1.983,43\n",
        "\"266\",2.25,60\n",
        "\"267\",4.75,75\n",
        "\"268\",4.117,81\n",
        "\"269\",2.15,46\n",
        "\"270\",4.417,90\n",
        "\"271\",1.817,46\n",
        "\"272\",4.467,74"
      ],
      "metadata": {
        "colab": {
          "base_uri": "https://localhost:8080/"
        },
        "id": "BHOzAhDBU3dX",
        "outputId": "b4ff16a9-f119-4bf1-9d3a-896cab70579e"
      },
      "execution_count": null,
      "outputs": [
        {
          "output_type": "execute_result",
          "data": {
            "text/plain": [
              "('272', 4.467, 74)"
            ]
          },
          "metadata": {},
          "execution_count": 35
        }
      ]
    },
    {
      "cell_type": "code",
      "source": [
        "#To print the hole data set :\n",
        "pd.set_option(\"display.max_rows\", None, \"display.max_columns\", None)\n",
        "print(faithful_df)\n",
        "#Where faithful_df) is your data frame name\n"
      ],
      "metadata": {
        "id": "lJt-Ayg9DXON",
        "outputId": "a0ac8ae1-55e0-4598-b638-ed91f739bc6a",
        "colab": {
          "base_uri": "https://localhost:8080/"
        }
      },
      "execution_count": null,
      "outputs": [
        {
          "output_type": "stream",
          "name": "stdout",
          "text": [
            "     eruptions  waiting\n",
            "1        3.600       79\n",
            "2        1.800       54\n",
            "3        3.333       74\n",
            "4        2.283       62\n",
            "5        4.533       85\n",
            "6        2.883       55\n",
            "7        4.700       88\n",
            "8        3.600       85\n",
            "9        1.950       51\n",
            "10       4.350       85\n",
            "11       1.833       54\n",
            "12       3.917       84\n",
            "13       4.200       78\n",
            "14       1.750       47\n",
            "15       4.700       83\n",
            "16       2.167       52\n",
            "17       1.750       62\n",
            "18       4.800       84\n",
            "19       1.600       52\n",
            "20       4.250       79\n",
            "21       1.800       51\n",
            "22       1.750       47\n",
            "23       3.450       78\n",
            "24       3.067       69\n",
            "25       4.533       74\n",
            "26       3.600       83\n",
            "27       1.967       55\n",
            "28       4.083       76\n",
            "29       3.850       78\n",
            "30       4.433       79\n",
            "31       4.300       73\n",
            "32       4.467       77\n",
            "33       3.367       66\n",
            "34       4.033       80\n",
            "35       3.833       74\n",
            "36       2.017       52\n",
            "37       1.867       48\n",
            "38       4.833       80\n",
            "39       1.833       59\n",
            "40       4.783       90\n",
            "41       4.350       80\n",
            "42       1.883       58\n",
            "43       4.567       84\n",
            "44       1.750       58\n",
            "45       4.533       73\n",
            "46       3.317       83\n",
            "47       3.833       64\n",
            "48       2.100       53\n",
            "49       4.633       82\n",
            "50       2.000       59\n",
            "51       4.800       75\n",
            "52       4.716       90\n",
            "53       1.833       54\n",
            "54       4.833       80\n",
            "55       1.733       54\n",
            "56       4.883       83\n",
            "57       3.717       71\n",
            "58       1.667       64\n",
            "59       4.567       77\n",
            "60       4.317       81\n",
            "61       2.233       59\n",
            "62       4.500       84\n",
            "63       1.750       48\n",
            "64       4.800       82\n",
            "65       1.817       60\n",
            "66       4.400       92\n",
            "67       4.167       78\n",
            "68       4.700       78\n",
            "69       2.067       65\n",
            "70       4.700       73\n",
            "71       4.033       82\n",
            "72       1.967       56\n",
            "73       4.500       79\n",
            "74       4.000       71\n",
            "75       1.983       62\n",
            "76       5.067       76\n",
            "77       2.017       60\n",
            "78       4.567       78\n",
            "79       3.883       76\n",
            "80       3.600       83\n",
            "81       4.133       75\n",
            "82       4.333       82\n",
            "83       4.100       70\n",
            "84       2.633       65\n",
            "85       4.067       73\n",
            "86       4.933       88\n",
            "87       3.950       76\n",
            "88       4.517       80\n",
            "89       2.167       48\n",
            "90       4.000       86\n",
            "91       2.200       60\n",
            "92       4.333       90\n",
            "93       1.867       50\n",
            "94       4.817       78\n",
            "95       1.833       63\n",
            "96       4.300       72\n",
            "97       4.667       84\n",
            "98       3.750       75\n",
            "99       1.867       51\n",
            "100      4.900       82\n",
            "101      2.483       62\n",
            "102      4.367       88\n",
            "103      2.100       49\n",
            "104      4.500       83\n",
            "105      4.050       81\n",
            "106      1.867       47\n",
            "107      4.700       84\n",
            "108      1.783       52\n",
            "109      4.850       86\n",
            "110      3.683       81\n",
            "111      4.733       75\n",
            "112      2.300       59\n",
            "113      4.900       89\n",
            "114      4.417       79\n",
            "115      1.700       59\n",
            "116      4.633       81\n",
            "117      2.317       50\n",
            "118      4.600       85\n",
            "119      1.817       59\n",
            "120      4.417       87\n",
            "121      2.617       53\n",
            "122      4.067       69\n",
            "123      4.250       77\n",
            "124      1.967       56\n",
            "125      4.600       88\n",
            "126      3.767       81\n",
            "127      1.917       45\n",
            "128      4.500       82\n",
            "129      2.267       55\n",
            "130      4.650       90\n",
            "131      1.867       45\n",
            "132      4.167       83\n",
            "133      2.800       56\n",
            "134      4.333       89\n",
            "135      1.833       46\n",
            "136      4.383       82\n",
            "137      1.883       51\n",
            "138      4.933       86\n",
            "139      2.033       53\n",
            "140      3.733       79\n",
            "141      4.233       81\n",
            "142      2.233       60\n",
            "143      4.533       82\n",
            "144      4.817       77\n",
            "145      4.333       76\n",
            "146      1.983       59\n",
            "147      4.633       80\n",
            "148      2.017       49\n",
            "149      5.100       96\n",
            "150      1.800       53\n",
            "151      5.033       77\n",
            "152      4.000       77\n",
            "153      2.400       65\n",
            "154      4.600       81\n",
            "155      3.567       71\n",
            "156      4.000       70\n",
            "157      4.500       81\n",
            "158      4.083       93\n",
            "159      1.800       53\n",
            "160      3.967       89\n",
            "161      2.200       45\n",
            "162      4.150       86\n",
            "163      2.000       58\n",
            "164      3.833       78\n",
            "165      3.500       66\n",
            "166      4.583       76\n",
            "167      2.367       63\n",
            "168      5.000       88\n",
            "169      1.933       52\n",
            "170      4.617       93\n",
            "171      1.917       49\n",
            "172      2.083       57\n",
            "173      4.583       77\n",
            "174      3.333       68\n",
            "175      4.167       81\n",
            "176      4.333       81\n",
            "177      4.500       73\n",
            "178      2.417       50\n",
            "179      4.000       85\n",
            "180      4.167       74\n",
            "181      1.883       55\n",
            "182      4.583       77\n",
            "183      4.250       83\n",
            "184      3.767       83\n",
            "185      2.033       51\n",
            "186      4.433       78\n",
            "187      4.083       84\n",
            "188      1.833       46\n",
            "189      4.417       83\n",
            "190      2.183       55\n",
            "191      4.800       81\n",
            "192      1.833       57\n",
            "193      4.800       76\n",
            "194      4.100       84\n",
            "195      3.966       77\n",
            "196      4.233       81\n",
            "197      3.500       87\n",
            "198      4.366       77\n",
            "199      2.250       51\n",
            "200      4.667       78\n",
            "201      2.100       60\n",
            "202      4.350       82\n",
            "203      4.133       91\n",
            "204      1.867       53\n",
            "205      4.600       78\n",
            "206      1.783       46\n",
            "207      4.367       77\n",
            "208      3.850       84\n",
            "209      1.933       49\n",
            "210      4.500       83\n",
            "211      2.383       71\n",
            "212      4.700       80\n",
            "213      1.867       49\n",
            "214      3.833       75\n",
            "215      3.417       64\n",
            "216      4.233       76\n",
            "217      2.400       53\n",
            "218      4.800       94\n",
            "219      2.000       55\n",
            "220      4.150       76\n",
            "221      1.867       50\n",
            "222      4.267       82\n",
            "223      1.750       54\n",
            "224      4.483       75\n",
            "225      4.000       78\n",
            "226      4.117       79\n",
            "227      4.083       78\n",
            "228      4.267       78\n",
            "229      3.917       70\n",
            "230      4.550       79\n",
            "231      4.083       70\n",
            "232      2.417       54\n",
            "233      4.183       86\n",
            "234      2.217       50\n",
            "235      4.450       90\n",
            "236      1.883       54\n",
            "237      1.850       54\n",
            "238      4.283       77\n",
            "239      3.950       79\n",
            "240      2.333       64\n",
            "241      4.150       75\n",
            "242      2.350       47\n",
            "243      4.933       86\n",
            "244      2.900       63\n",
            "245      4.583       85\n",
            "246      3.833       82\n",
            "247      2.083       57\n",
            "248      4.367       82\n",
            "249      2.133       67\n",
            "250      4.350       74\n",
            "251      2.200       54\n",
            "252      4.450       83\n",
            "253      3.567       73\n",
            "254      4.500       73\n",
            "255      4.150       88\n",
            "256      3.817       80\n",
            "257      3.917       71\n",
            "258      4.450       83\n",
            "259      2.000       56\n",
            "260      4.283       79\n",
            "261      4.767       78\n",
            "262      4.533       84\n",
            "263      1.850       58\n",
            "264      4.250       83\n",
            "265      1.983       43\n",
            "266      2.250       60\n",
            "267      4.750       75\n",
            "268      4.117       81\n",
            "269      2.150       46\n",
            "270      4.417       90\n",
            "271      1.817       46\n",
            "272      4.467       74\n"
          ]
        }
      ]
    },
    {
      "cell_type": "code",
      "source": [
        "my_ series = "
      ],
      "metadata": {
        "id": "4q8aWeehwawB"
      },
      "execution_count": null,
      "outputs": []
    },
    {
      "cell_type": "code",
      "source": [
        "import matplotib.pyplot as plt \n",
        "%matplotib inline"
      ],
      "metadata": {
        "colab": {
          "base_uri": "https://localhost:8080/",
          "height": 322
        },
        "id": "zzH-1qwJwq9R",
        "outputId": "901b27b2-c673-435d-f0fc-2b3b1f7066e5"
      },
      "execution_count": null,
      "outputs": [
        {
          "output_type": "error",
          "ename": "ModuleNotFoundError",
          "evalue": "ignored",
          "traceback": [
            "\u001b[0;31m---------------------------------------------------------------------------\u001b[0m",
            "\u001b[0;31mModuleNotFoundError\u001b[0m                       Traceback (most recent call last)",
            "\u001b[0;32m<ipython-input-1-8d75002a02e5>\u001b[0m in \u001b[0;36m<module>\u001b[0;34m()\u001b[0m\n\u001b[0;32m----> 1\u001b[0;31m \u001b[0;32mimport\u001b[0m \u001b[0mmatplotib\u001b[0m\u001b[0;34m.\u001b[0m\u001b[0mpyplot\u001b[0m \u001b[0;32mas\u001b[0m \u001b[0mplt\u001b[0m\u001b[0;34m\u001b[0m\u001b[0;34m\u001b[0m\u001b[0m\n\u001b[0m\u001b[1;32m      2\u001b[0m \u001b[0mget_ipython\u001b[0m\u001b[0;34m(\u001b[0m\u001b[0;34m)\u001b[0m\u001b[0;34m.\u001b[0m\u001b[0mmagic\u001b[0m\u001b[0;34m(\u001b[0m\u001b[0;34m'matplotib inline'\u001b[0m\u001b[0;34m)\u001b[0m\u001b[0;34m\u001b[0m\u001b[0;34m\u001b[0m\u001b[0m\n",
            "\u001b[0;31mModuleNotFoundError\u001b[0m: No module named 'matplotib'",
            "",
            "\u001b[0;31m---------------------------------------------------------------------------\u001b[0;32m\nNOTE: If your import is failing due to a missing package, you can\nmanually install dependencies using either !pip or !apt.\n\nTo view examples of installing some common dependencies, click the\n\"Open Examples\" button below.\n\u001b[0;31m---------------------------------------------------------------------------\u001b[0m\n"
          ],
          "errorDetails": {
            "actions": [
              {
                "action": "open_url",
                "actionText": "Open Examples",
                "url": "/notebooks/snippets/importing_libraries.ipynb"
              }
            ]
          }
        }
      ]
    },
    {
      "cell_type": "code",
      "source": [
        "pd.set_option(\"display.max_rows\", none, \"display.max_columns\", none)\n"
      ],
      "metadata": {
        "colab": {
          "base_uri": "https://localhost:8080/",
          "height": 165
        },
        "id": "djw6OsNV5cWB",
        "outputId": "2b875efc-d27d-4d05-97ba-39feaee032f9"
      },
      "execution_count": null,
      "outputs": [
        {
          "output_type": "error",
          "ename": "NameError",
          "evalue": "ignored",
          "traceback": [
            "\u001b[0;31m---------------------------------------------------------------------------\u001b[0m",
            "\u001b[0;31mNameError\u001b[0m                                 Traceback (most recent call last)",
            "\u001b[0;32m<ipython-input-8-f36da320bdca>\u001b[0m in \u001b[0;36m<module>\u001b[0;34m()\u001b[0m\n\u001b[0;32m----> 1\u001b[0;31m \u001b[0mpd\u001b[0m\u001b[0;34m.\u001b[0m\u001b[0mset_option\u001b[0m\u001b[0;34m(\u001b[0m\u001b[0;34m\"display.max_rows\"\u001b[0m\u001b[0;34m,\u001b[0m \u001b[0mnone\u001b[0m\u001b[0;34m,\u001b[0m \u001b[0;34m\"display.max_columns\"\u001b[0m\u001b[0;34m,\u001b[0m \u001b[0mnone\u001b[0m\u001b[0;34m)\u001b[0m\u001b[0;34m\u001b[0m\u001b[0;34m\u001b[0m\u001b[0m\n\u001b[0m",
            "\u001b[0;31mNameError\u001b[0m: name 'none' is not defined"
          ]
        }
      ]
    },
    {
      "cell_type": "code",
      "source": [
        "new_faithful=faithful_df\n",
        "new_faithful.head(5)\n",
        "new_faithful.drop('Created Date', axis = 1, inplace = True)\n",
        "new_faithful"
      ],
      "metadata": {
        "colab": {
          "base_uri": "https://localhost:8080/",
          "height": 362
        },
        "id": "p9nx_lTH6Q72",
        "outputId": "574eb055-e8d1-4116-f9cb-e7528b7fb2f7"
      },
      "execution_count": null,
      "outputs": [
        {
          "output_type": "error",
          "ename": "KeyError",
          "evalue": "ignored",
          "traceback": [
            "\u001b[0;31m---------------------------------------------------------------------------\u001b[0m",
            "\u001b[0;31mKeyError\u001b[0m                                  Traceback (most recent call last)",
            "\u001b[0;32m<ipython-input-10-8de4bbea5112>\u001b[0m in \u001b[0;36m<module>\u001b[0;34m()\u001b[0m\n\u001b[1;32m      1\u001b[0m \u001b[0mnew_faithful\u001b[0m\u001b[0;34m=\u001b[0m\u001b[0mfaithful_df\u001b[0m\u001b[0;34m\u001b[0m\u001b[0;34m\u001b[0m\u001b[0m\n\u001b[1;32m      2\u001b[0m \u001b[0mnew_faithful\u001b[0m\u001b[0;34m.\u001b[0m\u001b[0mhead\u001b[0m\u001b[0;34m(\u001b[0m\u001b[0;36m5\u001b[0m\u001b[0;34m)\u001b[0m\u001b[0;34m\u001b[0m\u001b[0;34m\u001b[0m\u001b[0m\n\u001b[0;32m----> 3\u001b[0;31m \u001b[0mnew_faithful\u001b[0m\u001b[0;34m.\u001b[0m\u001b[0mdrop\u001b[0m\u001b[0;34m(\u001b[0m\u001b[0;34m'Created Date'\u001b[0m\u001b[0;34m,\u001b[0m \u001b[0maxis\u001b[0m \u001b[0;34m=\u001b[0m \u001b[0;36m1\u001b[0m\u001b[0;34m,\u001b[0m \u001b[0minplace\u001b[0m \u001b[0;34m=\u001b[0m \u001b[0;32mTrue\u001b[0m\u001b[0;34m)\u001b[0m\u001b[0;34m\u001b[0m\u001b[0;34m\u001b[0m\u001b[0m\n\u001b[0m\u001b[1;32m      4\u001b[0m \u001b[0mnew_faithful\u001b[0m\u001b[0;34m\u001b[0m\u001b[0;34m\u001b[0m\u001b[0m\n",
            "\u001b[0;32m/usr/local/lib/python3.7/dist-packages/pandas/core/frame.py\u001b[0m in \u001b[0;36mdrop\u001b[0;34m(self, labels, axis, index, columns, level, inplace, errors)\u001b[0m\n\u001b[1;32m   4172\u001b[0m             \u001b[0mlevel\u001b[0m\u001b[0;34m=\u001b[0m\u001b[0mlevel\u001b[0m\u001b[0;34m,\u001b[0m\u001b[0;34m\u001b[0m\u001b[0;34m\u001b[0m\u001b[0m\n\u001b[1;32m   4173\u001b[0m             \u001b[0minplace\u001b[0m\u001b[0;34m=\u001b[0m\u001b[0minplace\u001b[0m\u001b[0;34m,\u001b[0m\u001b[0;34m\u001b[0m\u001b[0;34m\u001b[0m\u001b[0m\n\u001b[0;32m-> 4174\u001b[0;31m             \u001b[0merrors\u001b[0m\u001b[0;34m=\u001b[0m\u001b[0merrors\u001b[0m\u001b[0;34m,\u001b[0m\u001b[0;34m\u001b[0m\u001b[0;34m\u001b[0m\u001b[0m\n\u001b[0m\u001b[1;32m   4175\u001b[0m         )\n\u001b[1;32m   4176\u001b[0m \u001b[0;34m\u001b[0m\u001b[0m\n",
            "\u001b[0;32m/usr/local/lib/python3.7/dist-packages/pandas/core/generic.py\u001b[0m in \u001b[0;36mdrop\u001b[0;34m(self, labels, axis, index, columns, level, inplace, errors)\u001b[0m\n\u001b[1;32m   3887\u001b[0m         \u001b[0;32mfor\u001b[0m \u001b[0maxis\u001b[0m\u001b[0;34m,\u001b[0m \u001b[0mlabels\u001b[0m \u001b[0;32min\u001b[0m \u001b[0maxes\u001b[0m\u001b[0;34m.\u001b[0m\u001b[0mitems\u001b[0m\u001b[0;34m(\u001b[0m\u001b[0;34m)\u001b[0m\u001b[0;34m:\u001b[0m\u001b[0;34m\u001b[0m\u001b[0;34m\u001b[0m\u001b[0m\n\u001b[1;32m   3888\u001b[0m             \u001b[0;32mif\u001b[0m \u001b[0mlabels\u001b[0m \u001b[0;32mis\u001b[0m \u001b[0;32mnot\u001b[0m \u001b[0;32mNone\u001b[0m\u001b[0;34m:\u001b[0m\u001b[0;34m\u001b[0m\u001b[0;34m\u001b[0m\u001b[0m\n\u001b[0;32m-> 3889\u001b[0;31m                 \u001b[0mobj\u001b[0m \u001b[0;34m=\u001b[0m \u001b[0mobj\u001b[0m\u001b[0;34m.\u001b[0m\u001b[0m_drop_axis\u001b[0m\u001b[0;34m(\u001b[0m\u001b[0mlabels\u001b[0m\u001b[0;34m,\u001b[0m \u001b[0maxis\u001b[0m\u001b[0;34m,\u001b[0m \u001b[0mlevel\u001b[0m\u001b[0;34m=\u001b[0m\u001b[0mlevel\u001b[0m\u001b[0;34m,\u001b[0m \u001b[0merrors\u001b[0m\u001b[0;34m=\u001b[0m\u001b[0merrors\u001b[0m\u001b[0;34m)\u001b[0m\u001b[0;34m\u001b[0m\u001b[0;34m\u001b[0m\u001b[0m\n\u001b[0m\u001b[1;32m   3890\u001b[0m \u001b[0;34m\u001b[0m\u001b[0m\n\u001b[1;32m   3891\u001b[0m         \u001b[0;32mif\u001b[0m \u001b[0minplace\u001b[0m\u001b[0;34m:\u001b[0m\u001b[0;34m\u001b[0m\u001b[0;34m\u001b[0m\u001b[0m\n",
            "\u001b[0;32m/usr/local/lib/python3.7/dist-packages/pandas/core/generic.py\u001b[0m in \u001b[0;36m_drop_axis\u001b[0;34m(self, labels, axis, level, errors)\u001b[0m\n\u001b[1;32m   3921\u001b[0m                 \u001b[0mnew_axis\u001b[0m \u001b[0;34m=\u001b[0m \u001b[0maxis\u001b[0m\u001b[0;34m.\u001b[0m\u001b[0mdrop\u001b[0m\u001b[0;34m(\u001b[0m\u001b[0mlabels\u001b[0m\u001b[0;34m,\u001b[0m \u001b[0mlevel\u001b[0m\u001b[0;34m=\u001b[0m\u001b[0mlevel\u001b[0m\u001b[0;34m,\u001b[0m \u001b[0merrors\u001b[0m\u001b[0;34m=\u001b[0m\u001b[0merrors\u001b[0m\u001b[0;34m)\u001b[0m\u001b[0;34m\u001b[0m\u001b[0;34m\u001b[0m\u001b[0m\n\u001b[1;32m   3922\u001b[0m             \u001b[0;32melse\u001b[0m\u001b[0;34m:\u001b[0m\u001b[0;34m\u001b[0m\u001b[0;34m\u001b[0m\u001b[0m\n\u001b[0;32m-> 3923\u001b[0;31m                 \u001b[0mnew_axis\u001b[0m \u001b[0;34m=\u001b[0m \u001b[0maxis\u001b[0m\u001b[0;34m.\u001b[0m\u001b[0mdrop\u001b[0m\u001b[0;34m(\u001b[0m\u001b[0mlabels\u001b[0m\u001b[0;34m,\u001b[0m \u001b[0merrors\u001b[0m\u001b[0;34m=\u001b[0m\u001b[0merrors\u001b[0m\u001b[0;34m)\u001b[0m\u001b[0;34m\u001b[0m\u001b[0;34m\u001b[0m\u001b[0m\n\u001b[0m\u001b[1;32m   3924\u001b[0m             \u001b[0mresult\u001b[0m \u001b[0;34m=\u001b[0m \u001b[0mself\u001b[0m\u001b[0;34m.\u001b[0m\u001b[0mreindex\u001b[0m\u001b[0;34m(\u001b[0m\u001b[0;34m**\u001b[0m\u001b[0;34m{\u001b[0m\u001b[0maxis_name\u001b[0m\u001b[0;34m:\u001b[0m \u001b[0mnew_axis\u001b[0m\u001b[0;34m}\u001b[0m\u001b[0;34m)\u001b[0m\u001b[0;34m\u001b[0m\u001b[0;34m\u001b[0m\u001b[0m\n\u001b[1;32m   3925\u001b[0m \u001b[0;34m\u001b[0m\u001b[0m\n",
            "\u001b[0;32m/usr/local/lib/python3.7/dist-packages/pandas/core/indexes/base.py\u001b[0m in \u001b[0;36mdrop\u001b[0;34m(self, labels, errors)\u001b[0m\n\u001b[1;32m   5285\u001b[0m         \u001b[0;32mif\u001b[0m \u001b[0mmask\u001b[0m\u001b[0;34m.\u001b[0m\u001b[0many\u001b[0m\u001b[0;34m(\u001b[0m\u001b[0;34m)\u001b[0m\u001b[0;34m:\u001b[0m\u001b[0;34m\u001b[0m\u001b[0;34m\u001b[0m\u001b[0m\n\u001b[1;32m   5286\u001b[0m             \u001b[0;32mif\u001b[0m \u001b[0merrors\u001b[0m \u001b[0;34m!=\u001b[0m \u001b[0;34m\"ignore\"\u001b[0m\u001b[0;34m:\u001b[0m\u001b[0;34m\u001b[0m\u001b[0;34m\u001b[0m\u001b[0m\n\u001b[0;32m-> 5287\u001b[0;31m                 \u001b[0;32mraise\u001b[0m \u001b[0mKeyError\u001b[0m\u001b[0;34m(\u001b[0m\u001b[0;34mf\"{labels[mask]} not found in axis\"\u001b[0m\u001b[0;34m)\u001b[0m\u001b[0;34m\u001b[0m\u001b[0;34m\u001b[0m\u001b[0m\n\u001b[0m\u001b[1;32m   5288\u001b[0m             \u001b[0mindexer\u001b[0m \u001b[0;34m=\u001b[0m \u001b[0mindexer\u001b[0m\u001b[0;34m[\u001b[0m\u001b[0;34m~\u001b[0m\u001b[0mmask\u001b[0m\u001b[0;34m]\u001b[0m\u001b[0;34m\u001b[0m\u001b[0;34m\u001b[0m\u001b[0m\n\u001b[1;32m   5289\u001b[0m         \u001b[0;32mreturn\u001b[0m \u001b[0mself\u001b[0m\u001b[0;34m.\u001b[0m\u001b[0mdelete\u001b[0m\u001b[0;34m(\u001b[0m\u001b[0mindexer\u001b[0m\u001b[0;34m)\u001b[0m\u001b[0;34m\u001b[0m\u001b[0;34m\u001b[0m\u001b[0m\n",
            "\u001b[0;31mKeyError\u001b[0m: \"['Created Date'] not found in axis\""
          ]
        }
      ]
    },
    {
      "cell_type": "code",
      "source": [
        "df.groupby(by='sex')\n",
        "#If you want for male \n",
        "df(\"sex=='Male'\")\n",
        "#Sorry I forgot ;\n",
        "df.query(\"sex=='Male'\")['salary'].mean()\n",
        "#After groupby\n",
        "df_mean = df[\"sex\"].mean()\n",
        "print(df_mean)\n",
        "\n"
      ],
      "metadata": {
        "colab": {
          "base_uri": "https://localhost:8080/",
          "height": 234
        },
        "id": "-_-dVVrbuy_h",
        "outputId": "67b1d978-98c1-4bd7-b269-935e2b9e14c8"
      },
      "execution_count": null,
      "outputs": [
        {
          "output_type": "error",
          "ename": "NameError",
          "evalue": "ignored",
          "traceback": [
            "\u001b[0;31m---------------------------------------------------------------------------\u001b[0m",
            "\u001b[0;31mNameError\u001b[0m                                 Traceback (most recent call last)",
            "\u001b[0;32m<ipython-input-5-2ed6b62d5680>\u001b[0m in \u001b[0;36m<module>\u001b[0;34m()\u001b[0m\n\u001b[0;32m----> 1\u001b[0;31m \u001b[0mdf\u001b[0m\u001b[0;34m.\u001b[0m\u001b[0mgroupby\u001b[0m\u001b[0;34m(\u001b[0m\u001b[0mby\u001b[0m\u001b[0;34m=\u001b[0m\u001b[0;34m'sex'\u001b[0m\u001b[0;34m)\u001b[0m\u001b[0;34m\u001b[0m\u001b[0;34m\u001b[0m\u001b[0m\n\u001b[0m\u001b[1;32m      2\u001b[0m \u001b[0;31m#If you want for male\u001b[0m\u001b[0;34m\u001b[0m\u001b[0;34m\u001b[0m\u001b[0;34m\u001b[0m\u001b[0m\n\u001b[1;32m      3\u001b[0m \u001b[0mdf\u001b[0m\u001b[0;34m(\u001b[0m\u001b[0;34m\"sex=='Male'\"\u001b[0m\u001b[0;34m)\u001b[0m\u001b[0;34m\u001b[0m\u001b[0;34m\u001b[0m\u001b[0m\n\u001b[1;32m      4\u001b[0m \u001b[0;31m#Sorry I forgot ;\u001b[0m\u001b[0;34m\u001b[0m\u001b[0;34m\u001b[0m\u001b[0;34m\u001b[0m\u001b[0m\n\u001b[1;32m      5\u001b[0m \u001b[0mdf\u001b[0m\u001b[0;34m.\u001b[0m\u001b[0mquery\u001b[0m\u001b[0;34m(\u001b[0m\u001b[0;34m\"sex=='Male'\"\u001b[0m\u001b[0;34m)\u001b[0m\u001b[0;34m[\u001b[0m\u001b[0;34m'salary'\u001b[0m\u001b[0;34m]\u001b[0m\u001b[0;34m.\u001b[0m\u001b[0mmean\u001b[0m\u001b[0;34m(\u001b[0m\u001b[0;34m)\u001b[0m\u001b[0;34m\u001b[0m\u001b[0;34m\u001b[0m\u001b[0m\n",
            "\u001b[0;31mNameError\u001b[0m: name 'df' is not defined"
          ]
        }
      ]
    }
  ]
}