{
  "nbformat": 4,
  "nbformat_minor": 0,
  "metadata": {
    "colab": {
      "name": "Unit2_L2_Classwork (Collab).ipynb",
      "provenance": [],
      "collapsed_sections": []
    },
    "kernelspec": {
      "name": "python3",
      "display_name": "Python 3"
    },
    "language_info": {
      "name": "python"
    }
  },
  "cells": [
    {
      "cell_type": "markdown",
      "source": [
        "Name: Aaron Rodriguez                                                                     \n",
        "Python for Data Analytics\n"
      ],
      "metadata": {
        "id": "ZA8POuBQiEzb"
      }
    },
    {
      "cell_type": "markdown",
      "source": [
        "1.\tWhat is Python and why is it useful?\n",
        "\n",
        "Python is a computer programming language that can be used in an assortment of ways such as automating tasks and deciphering data analysis. This program is useful because it provides companies to create many software’s and tools to improve company effectiveness.\n"
      ],
      "metadata": {
        "id": "xaNGI6MQiMP6"
      }
    },
    {
      "cell_type": "markdown",
      "source": [
        "2.\tAre the following variable names allowed in python?\n",
        "\n",
        "a.\t1_message\n",
        "\n",
        "b.\tGreeting_message\n",
        "\n",
        "c.\tMessage_1\n",
        "\n",
        "d.\tFirst name\n",
        "\n",
        "e.\tFull_name\n",
        "\n",
        "1_Message, and First name cannot be used as variable names, when they are typed in place for a variable, then when print is typed, the result is an error code.\n"
      ],
      "metadata": {
        "id": "3gx6YUkEiTwl"
      }
    },
    {
      "cell_type": "markdown",
      "source": [
        "3.\tCreate a variable that holds the string “hello there!”"
      ],
      "metadata": {
        "id": "Fik8tA1nigTE"
      }
    },
    {
      "cell_type": "code",
      "source": [
        "Speak = \"Hello There\"\n",
        "print(Speak)"
      ],
      "metadata": {
        "colab": {
          "base_uri": "https://localhost:8080/"
        },
        "id": "b-XPaYR-ikFD",
        "outputId": "36663697-0e59-48a9-fe9a-f0ec1cd26713"
      },
      "execution_count": 1,
      "outputs": [
        {
          "output_type": "stream",
          "name": "stdout",
          "text": [
            "Hello There\n"
          ]
        }
      ]
    },
    {
      "cell_type": "markdown",
      "source": [
        "4.\tCreate a variable for first name, last name and an email extension.  Concatenating all three together to form an email address.  For example: firstnamelastname@gmail.com"
      ],
      "metadata": {
        "id": "TAkTZIIhiuJi"
      }
    },
    {
      "cell_type": "code",
      "source": [
        "A = ('John')\n",
        "B = ('jon')\n",
        "C = ('@gmail.com')\n",
        "print(A+B+C)"
      ],
      "metadata": {
        "colab": {
          "base_uri": "https://localhost:8080/"
        },
        "id": "1R6z4-VMiwVi",
        "outputId": "4b018aa1-e6f4-47c6-de69-6cc8fc4dc067"
      },
      "execution_count": 2,
      "outputs": [
        {
          "output_type": "stream",
          "name": "stdout",
          "text": [
            "Johnjon@gmail.com\n"
          ]
        }
      ]
    },
    {
      "cell_type": "markdown",
      "source": [
        "5.\tStore someone you know name in a variable called name.  Print their name in lower and uppercase using a method."
      ],
      "metadata": {
        "id": "NiylPeAgi14P"
      }
    },
    {
      "cell_type": "code",
      "source": [
        "name = \"Christian\"\n",
        "print(name)\n",
        "print(name.upper())\n",
        "print(name.lower())"
      ],
      "metadata": {
        "colab": {
          "base_uri": "https://localhost:8080/"
        },
        "id": "_HvdrvtKi5e5",
        "outputId": "1c18fff9-6d1e-4f29-f5c2-a7345172c202"
      },
      "execution_count": 3,
      "outputs": [
        {
          "output_type": "stream",
          "name": "stdout",
          "text": [
            "Christian\n",
            "CHRISTIAN\n",
            "christian\n"
          ]
        }
      ]
    },
    {
      "cell_type": "markdown",
      "source": [
        "6.\tUsing a variable, ask your friend if they want to hang out on the 15th of the month.  For example, “Do you want to hang out on the 15th of this month?”  You should have to convert the number to a string."
      ],
      "metadata": {
        "id": "iJ2CTs0-i-S5"
      }
    },
    {
      "cell_type": "code",
      "source": [
        "name = \"Christian\"\n",
        "question = \" Do you want to hang out on the 15th of this month?\"\n",
        "print(\"Hey \" + str(name) + question)"
      ],
      "metadata": {
        "colab": {
          "base_uri": "https://localhost:8080/"
        },
        "id": "1aJqVorEjBTA",
        "outputId": "b4d2e618-f058-451f-9445-3eb1527fa596"
      },
      "execution_count": 4,
      "outputs": [
        {
          "output_type": "stream",
          "name": "stdout",
          "text": [
            "Hey Christian Do you want to hang out on the 15th of this month?\n"
          ]
        }
      ]
    }
  ]
}